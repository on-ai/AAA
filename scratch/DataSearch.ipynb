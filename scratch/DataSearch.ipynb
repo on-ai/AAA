{
 "cells": [
  {
   "cell_type": "code",
   "execution_count": 2,
   "metadata": {},
   "outputs": [
    {
     "output_type": "execute_result",
     "data": {
      "text/plain": "   Individual Key  Household Key Member Flag          City State - Grouped  \\\n0      10000003.0     10462590.0           Y     NEW HAVEN              CT   \n1      52211550.0      4500791.0           Y  WEST WARWICK              RI   \n2      52211550.0      4500791.0           Y  WEST WARWICK              RI   \n3      52211550.0      4500791.0           Y  WEST WARWICK              RI   \n4      52211550.0      4500791.0           Y  WEST WARWICK              RI   \n\n     ZIP5        ZIP9 FSV CMSI Flag FSV Credit Card Flag  \\\n0  6511.0  65111349.0             N                    N   \n1  2893.0  28933850.0             N                    Y   \n2  2893.0  28933850.0             N                    Y   \n3  2893.0  28933850.0             N                    Y   \n4  2893.0  28933850.0             N                    Y   \n\n  FSV Deposit Program Flag  ... SC Vehicle Manufacturer Name  \\\n0                        N  ...                          NaN   \n1                        N  ...                       TOYOTA   \n2                        N  ...                       TOYOTA   \n3                        N  ...                       TOYOTA   \n4                        N  ...                       TOYOTA   \n\n  SC Vehicle Model Name      SVC Facility Name   SVC Facility Type Total Cost  \\\n0                   NaN                    NaN                 NaN        NaN   \n1                 CAMRY  ASTRO WRECKER SERVICE  independent repair       32.5   \n2                 CAMRY  Astro Wrecker Service  independent repair       30.0   \n3                 CAMRY  ASTRO WRECKER SERVICE  independent repair       32.5   \n4                 CAMRY  ASTRO WRECKER SERVICE  independent repair       30.0   \n\n  Tow Destination Latitude Tow Destination Longitude  \\\n0                      NaN                       NaN   \n1                     41.0                     -71.0   \n2                      0.0                       0.0   \n3                      0.0                       0.0   \n4                      0.0                       0.0   \n\n           Tow Destination Name  Was Duplicated Was Towed To AAR Referral  \n0                           NaN             NaN                       NaN  \n1  Aar / Johnson's Auto Service             0.0                       1.0  \n2                           NaN             0.0                       0.0  \n3                           NaN             0.0                       0.0  \n4                           NaN             0.0                       0.0  \n\n[5 rows x 112 columns]",
      "text/html": "<div>\n<style scoped>\n    .dataframe tbody tr th:only-of-type {\n        vertical-align: middle;\n    }\n\n    .dataframe tbody tr th {\n        vertical-align: top;\n    }\n\n    .dataframe thead th {\n        text-align: right;\n    }\n</style>\n<table border=\"1\" class=\"dataframe\">\n  <thead>\n    <tr style=\"text-align: right;\">\n      <th></th>\n      <th>Individual Key</th>\n      <th>Household Key</th>\n      <th>Member Flag</th>\n      <th>City</th>\n      <th>State - Grouped</th>\n      <th>ZIP5</th>\n      <th>ZIP9</th>\n      <th>FSV CMSI Flag</th>\n      <th>FSV Credit Card Flag</th>\n      <th>FSV Deposit Program Flag</th>\n      <th>...</th>\n      <th>SC Vehicle Manufacturer Name</th>\n      <th>SC Vehicle Model Name</th>\n      <th>SVC Facility Name</th>\n      <th>SVC Facility Type</th>\n      <th>Total Cost</th>\n      <th>Tow Destination Latitude</th>\n      <th>Tow Destination Longitude</th>\n      <th>Tow Destination Name</th>\n      <th>Was Duplicated</th>\n      <th>Was Towed To AAR Referral</th>\n    </tr>\n  </thead>\n  <tbody>\n    <tr>\n      <th>0</th>\n      <td>10000003.0</td>\n      <td>10462590.0</td>\n      <td>Y</td>\n      <td>NEW HAVEN</td>\n      <td>CT</td>\n      <td>6511.0</td>\n      <td>65111349.0</td>\n      <td>N</td>\n      <td>N</td>\n      <td>N</td>\n      <td>...</td>\n      <td>NaN</td>\n      <td>NaN</td>\n      <td>NaN</td>\n      <td>NaN</td>\n      <td>NaN</td>\n      <td>NaN</td>\n      <td>NaN</td>\n      <td>NaN</td>\n      <td>NaN</td>\n      <td>NaN</td>\n    </tr>\n    <tr>\n      <th>1</th>\n      <td>52211550.0</td>\n      <td>4500791.0</td>\n      <td>Y</td>\n      <td>WEST WARWICK</td>\n      <td>RI</td>\n      <td>2893.0</td>\n      <td>28933850.0</td>\n      <td>N</td>\n      <td>Y</td>\n      <td>N</td>\n      <td>...</td>\n      <td>TOYOTA</td>\n      <td>CAMRY</td>\n      <td>ASTRO WRECKER SERVICE</td>\n      <td>independent repair</td>\n      <td>32.5</td>\n      <td>41.0</td>\n      <td>-71.0</td>\n      <td>Aar / Johnson's Auto Service</td>\n      <td>0.0</td>\n      <td>1.0</td>\n    </tr>\n    <tr>\n      <th>2</th>\n      <td>52211550.0</td>\n      <td>4500791.0</td>\n      <td>Y</td>\n      <td>WEST WARWICK</td>\n      <td>RI</td>\n      <td>2893.0</td>\n      <td>28933850.0</td>\n      <td>N</td>\n      <td>Y</td>\n      <td>N</td>\n      <td>...</td>\n      <td>TOYOTA</td>\n      <td>CAMRY</td>\n      <td>Astro Wrecker Service</td>\n      <td>independent repair</td>\n      <td>30.0</td>\n      <td>0.0</td>\n      <td>0.0</td>\n      <td>NaN</td>\n      <td>0.0</td>\n      <td>0.0</td>\n    </tr>\n    <tr>\n      <th>3</th>\n      <td>52211550.0</td>\n      <td>4500791.0</td>\n      <td>Y</td>\n      <td>WEST WARWICK</td>\n      <td>RI</td>\n      <td>2893.0</td>\n      <td>28933850.0</td>\n      <td>N</td>\n      <td>Y</td>\n      <td>N</td>\n      <td>...</td>\n      <td>TOYOTA</td>\n      <td>CAMRY</td>\n      <td>ASTRO WRECKER SERVICE</td>\n      <td>independent repair</td>\n      <td>32.5</td>\n      <td>0.0</td>\n      <td>0.0</td>\n      <td>NaN</td>\n      <td>0.0</td>\n      <td>0.0</td>\n    </tr>\n    <tr>\n      <th>4</th>\n      <td>52211550.0</td>\n      <td>4500791.0</td>\n      <td>Y</td>\n      <td>WEST WARWICK</td>\n      <td>RI</td>\n      <td>2893.0</td>\n      <td>28933850.0</td>\n      <td>N</td>\n      <td>Y</td>\n      <td>N</td>\n      <td>...</td>\n      <td>TOYOTA</td>\n      <td>CAMRY</td>\n      <td>ASTRO WRECKER SERVICE</td>\n      <td>independent repair</td>\n      <td>30.0</td>\n      <td>0.0</td>\n      <td>0.0</td>\n      <td>NaN</td>\n      <td>0.0</td>\n      <td>0.0</td>\n    </tr>\n  </tbody>\n</table>\n<p>5 rows × 112 columns</p>\n</div>"
     },
     "metadata": {},
     "execution_count": 2
    }
   ],
   "source": [
    "\n",
    "#print (\"DataSearch2\")\n",
    "%matplotlib inline\n",
    "import matplotlib.pyplot as plt\n",
    "import numpy as np\n",
    "import pandas as pd\n",
    "\n",
    "df = pd.read_csv ('member_sample.csv', index_col = 0)\n",
    "#Shape is (21344, 112)\n",
    "#df.shape\n",
    "df.head ()"
   ]
  },
  {
   "cell_type": "code",
   "execution_count": 3,
   "metadata": {},
   "outputs": [
    {
     "output_type": "execute_result",
     "data": {
      "text/plain": "                                  count          mean           std  \\\nIndividual Key                  21344.0  3.358534e+07  5.113419e+07   \nHousehold Key                   21344.0  1.597040e+07  2.138079e+07   \nZIP5                            21344.0  2.944900e+03  4.787577e+02   \nZIP9                            21344.0  2.945248e+07  4.787472e+06   \nLength Of Residence             12010.0  1.152498e+01  5.495280e+00   \nDo Not Direct Mail Solicit      21343.0  5.285105e-02  2.237413e-01   \nEmail Available                 21343.0  5.361008e-01  4.987067e-01   \nERS ENT Count Year 1            16675.0  5.185607e-01  9.855318e-01   \nERS ENT Count Year 2            16675.0  9.362519e-01  1.253213e+00   \nERS ENT Count Year 3            16675.0  9.597601e-01  1.322932e+00   \nERS Member Cost Year 1          16675.0  2.806817e+01  5.757698e+01   \nERS Member Cost Year 2          16675.0  5.097063e+01  7.821354e+01   \nERS Member Cost Year 3          16675.0  4.951812e+01  7.396594e+01   \nRight_Individual Key            21343.0  3.358644e+07  5.113513e+07   \nMember Key                      21343.0  2.521610e+06  2.626375e+06   \nMember Number Associate ID      21343.0  1.153178e+07  1.235388e+07   \nMember Tenure Years             21343.0  3.295624e+01  1.792812e+01   \nMembership ID                   21343.0  1.153177e+05  1.235388e+05   \nMonths from Join to Cancel       8177.0  2.961616e+02  2.321941e+02   \nZIP                             21343.0  2.980749e+03  1.653139e+03   \nBasic Cost                      13944.0  4.262959e+01  1.571399e+01   \nCalculated Tow Miles            13861.0  2.379071e+00  7.030493e+00   \nDispatch Code2Description           0.0           NaN           NaN   \nIs Duplicate                    13997.0  0.000000e+00  0.000000e+00   \nIs NSR                          13997.0  5.915553e-02  2.359240e-01   \nMember Match Flag               13997.0  1.000000e+00  0.000000e+00   \nMember Number and Associate ID  13997.0  1.090849e+07  1.197440e+07   \nPlus Cost                       13944.0  3.450947e+00  1.821348e+01   \nPremier Cost                    13911.0  6.901014e-03  6.928482e-01   \nRec ID                          13997.0  7.568128e+06  6.350530e+06   \nTotal Cost                      13944.0  4.727370e+01  8.686911e+01   \nTow Destination Latitude        11813.0  1.512045e+01  1.986136e+01   \nTow Destination Longitude       11813.0 -2.610489e+01  3.428865e+01   \nWas Duplicated                  13997.0  6.515682e-02  2.468112e-01   \nWas Towed To AAR Referral       13997.0  1.364578e-02  1.160195e-01   \n\n                                         min         25%         50%  \\\nIndividual Key                  1.729300e+04   8784029.0  18537395.0   \nHousehold Key                   8.750000e+02   4350387.0   9811235.0   \nZIP5                            2.801000e+03      2857.0      2888.0   \nZIP9                            2.801008e+07  28570641.0  28882477.5   \nLength Of Residence             0.000000e+00         8.0        15.0   \nDo Not Direct Mail Solicit      0.000000e+00         0.0         0.0   \nEmail Available                 0.000000e+00         0.0         1.0   \nERS ENT Count Year 1            0.000000e+00         0.0         0.0   \nERS ENT Count Year 2            0.000000e+00         0.0         0.0   \nERS ENT Count Year 3            0.000000e+00         0.0         0.0   \nERS Member Cost Year 1          0.000000e+00         0.0         0.0   \nERS Member Cost Year 2          0.000000e+00         0.0         0.0   \nERS Member Cost Year 3          0.000000e+00         0.0         0.0   \nRight_Individual Key            1.729300e+04   8784029.0  18537395.0   \nMember Key                      1.150000e+02   1506908.5   1524446.0   \nMember Number Associate ID      1.530000e+04   1954124.0   5936800.0   \nMember Tenure Years             0.000000e+00        15.0        35.0   \nMembership ID                   1.530000e+02     19541.0     59368.0   \nMonths from Join to Cancel      0.000000e+00        72.0       264.0   \nZIP                             1.522000e+03      2852.0      2888.0   \nBasic Cost                      0.000000e+00        30.0        53.0   \nCalculated Tow Miles            0.000000e+00         0.0         0.0   \nDispatch Code2Description                NaN         NaN         NaN   \nIs Duplicate                    0.000000e+00         0.0         0.0   \nIs NSR                          0.000000e+00         0.0         0.0   \nMember Match Flag               1.000000e+00         1.0         1.0   \nMember Number and Associate ID  1.530000e+04   1865721.0   5772700.0   \nPlus Cost                       0.000000e+00         0.0         0.0   \nPremier Cost                    0.000000e+00         0.0         0.0   \nRec ID                          1.100000e+02   2771811.0   5228220.0   \nTotal Cost                      0.000000e+00        30.5        53.0   \nTow Destination Latitude        0.000000e+00         0.0         0.0   \nTow Destination Longitude      -7.548869e+01       -71.0         0.0   \nWas Duplicated                  0.000000e+00         0.0         0.0   \nWas Towed To AAR Referral       0.000000e+00         0.0         0.0   \n\n                                        75%           max  \nIndividual Key                  28217611.00  2.123219e+08  \nHousehold Key                   16540121.00  1.000791e+08  \nZIP5                                2910.00  6.902000e+03  \nZIP9                            29101748.00  6.902102e+07  \nLength Of Residence                   15.00  4.900000e+01  \nDo Not Direct Mail Solicit             0.00  1.000000e+00  \nEmail Available                        1.00  1.000000e+00  \nERS ENT Count Year 1                   1.00  7.000000e+00  \nERS ENT Count Year 2                   2.00  1.000000e+01  \nERS ENT Count Year 3                   1.00  9.000000e+00  \nERS Member Cost Year 1                36.00  5.607400e+02  \nERS Member Cost Year 2                66.75  9.043900e+02  \nERS Member Cost Year 3                65.39  6.040000e+02  \nRight_Individual Key            28217653.00  2.123219e+08  \nMember Key                       2504825.00  1.592920e+07  \nMember Number Associate ID      19409100.00  5.436950e+07  \nMember Tenure Years                   48.00  9.800000e+01  \nMembership ID                     194091.00  5.436950e+05  \nMonths from Join to Cancel           516.00  1.109000e+03  \nZIP                                 2910.00  9.863200e+04  \nBasic Cost                            53.00  1.063900e+02  \nCalculated Tow Miles                   1.00  1.420000e+02  \nDispatch Code2Description               NaN           NaN  \nIs Duplicate                           0.00  0.000000e+00  \nIs NSR                                 0.00  1.000000e+00  \nMember Match Flag                      1.00  1.000000e+00  \nMember Number and Associate ID  19264520.00  5.436950e+07  \nPlus Cost                              0.00  5.300000e+02  \nPremier Cost                           0.00  8.100000e+01  \nRec ID                          10307968.00  2.045938e+07  \nTotal Cost                            53.00  9.869000e+03  \nTow Destination Latitude              41.00  4.300000e+01  \nTow Destination Longitude              0.00  0.000000e+00  \nWas Duplicated                         0.00  1.000000e+00  \nWas Towed To AAR Referral              0.00  1.000000e+00  ",
      "text/html": "<div>\n<style scoped>\n    .dataframe tbody tr th:only-of-type {\n        vertical-align: middle;\n    }\n\n    .dataframe tbody tr th {\n        vertical-align: top;\n    }\n\n    .dataframe thead th {\n        text-align: right;\n    }\n</style>\n<table border=\"1\" class=\"dataframe\">\n  <thead>\n    <tr style=\"text-align: right;\">\n      <th></th>\n      <th>count</th>\n      <th>mean</th>\n      <th>std</th>\n      <th>min</th>\n      <th>25%</th>\n      <th>50%</th>\n      <th>75%</th>\n      <th>max</th>\n    </tr>\n  </thead>\n  <tbody>\n    <tr>\n      <th>Individual Key</th>\n      <td>21344.0</td>\n      <td>3.358534e+07</td>\n      <td>5.113419e+07</td>\n      <td>1.729300e+04</td>\n      <td>8784029.0</td>\n      <td>18537395.0</td>\n      <td>28217611.00</td>\n      <td>2.123219e+08</td>\n    </tr>\n    <tr>\n      <th>Household Key</th>\n      <td>21344.0</td>\n      <td>1.597040e+07</td>\n      <td>2.138079e+07</td>\n      <td>8.750000e+02</td>\n      <td>4350387.0</td>\n      <td>9811235.0</td>\n      <td>16540121.00</td>\n      <td>1.000791e+08</td>\n    </tr>\n    <tr>\n      <th>ZIP5</th>\n      <td>21344.0</td>\n      <td>2.944900e+03</td>\n      <td>4.787577e+02</td>\n      <td>2.801000e+03</td>\n      <td>2857.0</td>\n      <td>2888.0</td>\n      <td>2910.00</td>\n      <td>6.902000e+03</td>\n    </tr>\n    <tr>\n      <th>ZIP9</th>\n      <td>21344.0</td>\n      <td>2.945248e+07</td>\n      <td>4.787472e+06</td>\n      <td>2.801008e+07</td>\n      <td>28570641.0</td>\n      <td>28882477.5</td>\n      <td>29101748.00</td>\n      <td>6.902102e+07</td>\n    </tr>\n    <tr>\n      <th>Length Of Residence</th>\n      <td>12010.0</td>\n      <td>1.152498e+01</td>\n      <td>5.495280e+00</td>\n      <td>0.000000e+00</td>\n      <td>8.0</td>\n      <td>15.0</td>\n      <td>15.00</td>\n      <td>4.900000e+01</td>\n    </tr>\n    <tr>\n      <th>Do Not Direct Mail Solicit</th>\n      <td>21343.0</td>\n      <td>5.285105e-02</td>\n      <td>2.237413e-01</td>\n      <td>0.000000e+00</td>\n      <td>0.0</td>\n      <td>0.0</td>\n      <td>0.00</td>\n      <td>1.000000e+00</td>\n    </tr>\n    <tr>\n      <th>Email Available</th>\n      <td>21343.0</td>\n      <td>5.361008e-01</td>\n      <td>4.987067e-01</td>\n      <td>0.000000e+00</td>\n      <td>0.0</td>\n      <td>1.0</td>\n      <td>1.00</td>\n      <td>1.000000e+00</td>\n    </tr>\n    <tr>\n      <th>ERS ENT Count Year 1</th>\n      <td>16675.0</td>\n      <td>5.185607e-01</td>\n      <td>9.855318e-01</td>\n      <td>0.000000e+00</td>\n      <td>0.0</td>\n      <td>0.0</td>\n      <td>1.00</td>\n      <td>7.000000e+00</td>\n    </tr>\n    <tr>\n      <th>ERS ENT Count Year 2</th>\n      <td>16675.0</td>\n      <td>9.362519e-01</td>\n      <td>1.253213e+00</td>\n      <td>0.000000e+00</td>\n      <td>0.0</td>\n      <td>0.0</td>\n      <td>2.00</td>\n      <td>1.000000e+01</td>\n    </tr>\n    <tr>\n      <th>ERS ENT Count Year 3</th>\n      <td>16675.0</td>\n      <td>9.597601e-01</td>\n      <td>1.322932e+00</td>\n      <td>0.000000e+00</td>\n      <td>0.0</td>\n      <td>0.0</td>\n      <td>1.00</td>\n      <td>9.000000e+00</td>\n    </tr>\n    <tr>\n      <th>ERS Member Cost Year 1</th>\n      <td>16675.0</td>\n      <td>2.806817e+01</td>\n      <td>5.757698e+01</td>\n      <td>0.000000e+00</td>\n      <td>0.0</td>\n      <td>0.0</td>\n      <td>36.00</td>\n      <td>5.607400e+02</td>\n    </tr>\n    <tr>\n      <th>ERS Member Cost Year 2</th>\n      <td>16675.0</td>\n      <td>5.097063e+01</td>\n      <td>7.821354e+01</td>\n      <td>0.000000e+00</td>\n      <td>0.0</td>\n      <td>0.0</td>\n      <td>66.75</td>\n      <td>9.043900e+02</td>\n    </tr>\n    <tr>\n      <th>ERS Member Cost Year 3</th>\n      <td>16675.0</td>\n      <td>4.951812e+01</td>\n      <td>7.396594e+01</td>\n      <td>0.000000e+00</td>\n      <td>0.0</td>\n      <td>0.0</td>\n      <td>65.39</td>\n      <td>6.040000e+02</td>\n    </tr>\n    <tr>\n      <th>Right_Individual Key</th>\n      <td>21343.0</td>\n      <td>3.358644e+07</td>\n      <td>5.113513e+07</td>\n      <td>1.729300e+04</td>\n      <td>8784029.0</td>\n      <td>18537395.0</td>\n      <td>28217653.00</td>\n      <td>2.123219e+08</td>\n    </tr>\n    <tr>\n      <th>Member Key</th>\n      <td>21343.0</td>\n      <td>2.521610e+06</td>\n      <td>2.626375e+06</td>\n      <td>1.150000e+02</td>\n      <td>1506908.5</td>\n      <td>1524446.0</td>\n      <td>2504825.00</td>\n      <td>1.592920e+07</td>\n    </tr>\n    <tr>\n      <th>Member Number Associate ID</th>\n      <td>21343.0</td>\n      <td>1.153178e+07</td>\n      <td>1.235388e+07</td>\n      <td>1.530000e+04</td>\n      <td>1954124.0</td>\n      <td>5936800.0</td>\n      <td>19409100.00</td>\n      <td>5.436950e+07</td>\n    </tr>\n    <tr>\n      <th>Member Tenure Years</th>\n      <td>21343.0</td>\n      <td>3.295624e+01</td>\n      <td>1.792812e+01</td>\n      <td>0.000000e+00</td>\n      <td>15.0</td>\n      <td>35.0</td>\n      <td>48.00</td>\n      <td>9.800000e+01</td>\n    </tr>\n    <tr>\n      <th>Membership ID</th>\n      <td>21343.0</td>\n      <td>1.153177e+05</td>\n      <td>1.235388e+05</td>\n      <td>1.530000e+02</td>\n      <td>19541.0</td>\n      <td>59368.0</td>\n      <td>194091.00</td>\n      <td>5.436950e+05</td>\n    </tr>\n    <tr>\n      <th>Months from Join to Cancel</th>\n      <td>8177.0</td>\n      <td>2.961616e+02</td>\n      <td>2.321941e+02</td>\n      <td>0.000000e+00</td>\n      <td>72.0</td>\n      <td>264.0</td>\n      <td>516.00</td>\n      <td>1.109000e+03</td>\n    </tr>\n    <tr>\n      <th>ZIP</th>\n      <td>21343.0</td>\n      <td>2.980749e+03</td>\n      <td>1.653139e+03</td>\n      <td>1.522000e+03</td>\n      <td>2852.0</td>\n      <td>2888.0</td>\n      <td>2910.00</td>\n      <td>9.863200e+04</td>\n    </tr>\n    <tr>\n      <th>Basic Cost</th>\n      <td>13944.0</td>\n      <td>4.262959e+01</td>\n      <td>1.571399e+01</td>\n      <td>0.000000e+00</td>\n      <td>30.0</td>\n      <td>53.0</td>\n      <td>53.00</td>\n      <td>1.063900e+02</td>\n    </tr>\n    <tr>\n      <th>Calculated Tow Miles</th>\n      <td>13861.0</td>\n      <td>2.379071e+00</td>\n      <td>7.030493e+00</td>\n      <td>0.000000e+00</td>\n      <td>0.0</td>\n      <td>0.0</td>\n      <td>1.00</td>\n      <td>1.420000e+02</td>\n    </tr>\n    <tr>\n      <th>Dispatch Code2Description</th>\n      <td>0.0</td>\n      <td>NaN</td>\n      <td>NaN</td>\n      <td>NaN</td>\n      <td>NaN</td>\n      <td>NaN</td>\n      <td>NaN</td>\n      <td>NaN</td>\n    </tr>\n    <tr>\n      <th>Is Duplicate</th>\n      <td>13997.0</td>\n      <td>0.000000e+00</td>\n      <td>0.000000e+00</td>\n      <td>0.000000e+00</td>\n      <td>0.0</td>\n      <td>0.0</td>\n      <td>0.00</td>\n      <td>0.000000e+00</td>\n    </tr>\n    <tr>\n      <th>Is NSR</th>\n      <td>13997.0</td>\n      <td>5.915553e-02</td>\n      <td>2.359240e-01</td>\n      <td>0.000000e+00</td>\n      <td>0.0</td>\n      <td>0.0</td>\n      <td>0.00</td>\n      <td>1.000000e+00</td>\n    </tr>\n    <tr>\n      <th>Member Match Flag</th>\n      <td>13997.0</td>\n      <td>1.000000e+00</td>\n      <td>0.000000e+00</td>\n      <td>1.000000e+00</td>\n      <td>1.0</td>\n      <td>1.0</td>\n      <td>1.00</td>\n      <td>1.000000e+00</td>\n    </tr>\n    <tr>\n      <th>Member Number and Associate ID</th>\n      <td>13997.0</td>\n      <td>1.090849e+07</td>\n      <td>1.197440e+07</td>\n      <td>1.530000e+04</td>\n      <td>1865721.0</td>\n      <td>5772700.0</td>\n      <td>19264520.00</td>\n      <td>5.436950e+07</td>\n    </tr>\n    <tr>\n      <th>Plus Cost</th>\n      <td>13944.0</td>\n      <td>3.450947e+00</td>\n      <td>1.821348e+01</td>\n      <td>0.000000e+00</td>\n      <td>0.0</td>\n      <td>0.0</td>\n      <td>0.00</td>\n      <td>5.300000e+02</td>\n    </tr>\n    <tr>\n      <th>Premier Cost</th>\n      <td>13911.0</td>\n      <td>6.901014e-03</td>\n      <td>6.928482e-01</td>\n      <td>0.000000e+00</td>\n      <td>0.0</td>\n      <td>0.0</td>\n      <td>0.00</td>\n      <td>8.100000e+01</td>\n    </tr>\n    <tr>\n      <th>Rec ID</th>\n      <td>13997.0</td>\n      <td>7.568128e+06</td>\n      <td>6.350530e+06</td>\n      <td>1.100000e+02</td>\n      <td>2771811.0</td>\n      <td>5228220.0</td>\n      <td>10307968.00</td>\n      <td>2.045938e+07</td>\n    </tr>\n    <tr>\n      <th>Total Cost</th>\n      <td>13944.0</td>\n      <td>4.727370e+01</td>\n      <td>8.686911e+01</td>\n      <td>0.000000e+00</td>\n      <td>30.5</td>\n      <td>53.0</td>\n      <td>53.00</td>\n      <td>9.869000e+03</td>\n    </tr>\n    <tr>\n      <th>Tow Destination Latitude</th>\n      <td>11813.0</td>\n      <td>1.512045e+01</td>\n      <td>1.986136e+01</td>\n      <td>0.000000e+00</td>\n      <td>0.0</td>\n      <td>0.0</td>\n      <td>41.00</td>\n      <td>4.300000e+01</td>\n    </tr>\n    <tr>\n      <th>Tow Destination Longitude</th>\n      <td>11813.0</td>\n      <td>-2.610489e+01</td>\n      <td>3.428865e+01</td>\n      <td>-7.548869e+01</td>\n      <td>-71.0</td>\n      <td>0.0</td>\n      <td>0.00</td>\n      <td>0.000000e+00</td>\n    </tr>\n    <tr>\n      <th>Was Duplicated</th>\n      <td>13997.0</td>\n      <td>6.515682e-02</td>\n      <td>2.468112e-01</td>\n      <td>0.000000e+00</td>\n      <td>0.0</td>\n      <td>0.0</td>\n      <td>0.00</td>\n      <td>1.000000e+00</td>\n    </tr>\n    <tr>\n      <th>Was Towed To AAR Referral</th>\n      <td>13997.0</td>\n      <td>1.364578e-02</td>\n      <td>1.160195e-01</td>\n      <td>0.000000e+00</td>\n      <td>0.0</td>\n      <td>0.0</td>\n      <td>0.00</td>\n      <td>1.000000e+00</td>\n    </tr>\n  </tbody>\n</table>\n</div>"
     },
     "metadata": {},
     "execution_count": 3
    }
   ],
   "source": [
    "df.describe().transpose()"
   ]
  },
  {
   "cell_type": "code",
   "execution_count": 4,
   "metadata": {},
   "outputs": [
    {
     "output_type": "execute_result",
     "data": {
      "text/plain": "Fleet Indicator    13853\nTotal Cost         13944\nZIP5               21344\ndtype: int64"
     },
     "metadata": {},
     "execution_count": 4
    }
   ],
   "source": [
    "# Fleet Indicator removal\n",
    "#Total number of rows is 21344, total count is 13853\n",
    "#Number of missing values is 7491, number of valid values is \n",
    "#df ['Fleet Indicator'].isnull().count()\n",
    "#\n",
    "df [['Fleet Indicator', 'Total Cost', 'ZIP5']].count()\n",
    "\n"
   ]
  },
  {
   "cell_type": "code",
   "execution_count": null,
   "metadata": {},
   "outputs": [],
   "source": []
  },
  {
   "cell_type": "code",
   "execution_count": null,
   "metadata": {},
   "outputs": [],
   "source": []
  },
  {
   "cell_type": "code",
   "execution_count": 5,
   "metadata": {},
   "outputs": [],
   "source": [
    "def missing_values_table(df):\n",
    "    # Total missing values\n",
    "    mis_val = df.isnull().sum()\n",
    "    \n",
    "    # Percentage of missing values\n",
    "    mis_val_percent = 100 * df.isnull().sum() / len(df)\n",
    "    \n",
    "    # Make a table with the results\n",
    "    mis_val_table = pd.concat([mis_val, mis_val_percent], axis=1)\n",
    "    \n",
    "    # Rename the columns\n",
    "    mis_val_table_ren_columns = mis_val_table.rename(\n",
    "    columns = {0 : 'Missing Values', 1 : '% of Total Values'})\n",
    "    \n",
    "    # Sort the table by percentage of missing descending\n",
    "    mis_val_table_ren_columns = mis_val_table_ren_columns[\n",
    "        mis_val_table_ren_columns.iloc[:,1] != 0].sort_values(\n",
    "    '% of Total Values', ascending=False).round(1)\n",
    "    \n",
    "    # Print some summary information\n",
    "    print (\"Your selected dataframe has \" + str(df.shape[1]) + \" columns.\\n\"      \n",
    "        \"There are \" + str(mis_val_table_ren_columns.shape[0]) +\n",
    "            \" columns that have missing values.\")\n",
    "    \n",
    "    # Return the dataframe with missing information\n",
    "    return mis_val_table_ren_columns\n",
    "\n",
    "\n",
    "\n",
    "\n",
    "\n",
    "\n",
    "\n"
   ]
  },
  {
   "cell_type": "code",
   "execution_count": 13,
   "metadata": {},
   "outputs": [
    {
     "output_type": "error",
     "ename": "SyntaxError",
     "evalue": "invalid character in identifier (<ipython-input-13-0e2535de15c9>, line 21)",
     "traceback": [
      "\u001b[1;36m  File \u001b[1;32m\"<ipython-input-13-0e2535de15c9>\"\u001b[1;36m, line \u001b[1;32m21\u001b[0m\n\u001b[1;33m    ​\u001b[0m\n\u001b[1;37m    ^\u001b[0m\n\u001b[1;31mSyntaxError\u001b[0m\u001b[1;31m:\u001b[0m invalid character in identifier\n"
     ]
    }
   ],
   "source": [
    "def kmeans_amoi ():\n",
    "\n",
    "    \"\"\"Perform K-Means clustering on data with missing values.\n",
    "​\n",
    "    Args:\n",
    "      X: An [n_samples, n_features] array of data to cluster.\n",
    "      n_clusters: Number of clusters to form.\n",
    "      max_iter: Maximum number of EM iterations to perform.\n",
    "​\n",
    "    Returns:\n",
    "      labels: An [n_samples] vector of integer labels.\n",
    "      centroids: An [n_clusters, n_features] array of cluster centroids.\n",
    "      X_hat: Copy of X with the missing values filled in.\n",
    "    #\"\"\"\n",
    "    #def kmeans_missing(X, n_clusters, max_iter=10): \n",
    "    #from sklearn.cluster import KMeans   \n",
    "    # Initialize missing values to their column means\n",
    "    missing = ~np.isfinite(X)\n",
    "    mu = np.nanmean(X, 0, keepdims=1)\n",
    "    X_hat = np.where(missing, mu, X)\n",
    "​\n",
    "    for i in xrange(max_iter):\n",
    "        if i > 0:\n",
    "            # initialize KMeans with the previous set of centroids. this is much\n",
    "            # faster and makes it easier to check convergence (since labels\n",
    "            # won't be permuted on every iteration), but might be more prone to\n",
    "            # getting stuck in local minima.\n",
    "            cls = KMeans(n_clusters, init=prev_centroids)\n",
    "        else:\n",
    "            # do multiple random initializations in parallel\n",
    "            cls = KMeans(n_clusters, n_jobs=-1)\n",
    "​\n",
    "        # perform clustering on the filled-in data\n",
    "        labels = cls.fit_predict(X_hat)\n",
    "        centroids = cls.cluster_centers_\n",
    "​\n",
    "        # fill in the missing values based on their cluster centroids\n",
    "        X_hat[missing] = centroids[labels][missing]\n",
    "​\n",
    "        # when the labels have stopped changing then we have converged\n",
    "        if i > 0 and np.all(labels == prev_labels):\n",
    "            break\n",
    "​\n",
    "        prev_labels = labels\n",
    "        prev_centroids = cls.cluster_centers_\n",
    "​\n",
    "    return labels, centroids, X_hat\n",
    "\"\"\"\n"
   ]
  },
  {
   "cell_type": "code",
   "execution_count": 7,
   "metadata": {},
   "outputs": [],
   "source": [
    "import numpy as np\n",
    "import pandas as pd\n",
    "from sklearn.datasets import load_digits\n",
    "from sklearn.model_selection import train_test_split\n",
    "from sklearn.linear_model import LogisticRegression\n",
    "from sklearn.cluster import KMeans\n",
    "from sklearn.metrics import accuracy_score\n",
    "\n",
    "class clust():\n",
    "    def _load_data(self, sklearn_load_ds):\n",
    "        data = sklearn_load_ds\n",
    "        X = pd.DataFrame(data.data)\n",
    "        self.X_train, self.X_test, self.y_train, self.y_test = train_test_split(X, data.target, test_size=0.3, random_state=42)\n",
    "        \n",
    "        \n",
    "    def __init__(self, sklearn_load_ds):\n",
    "        self._load_data(sklearn_load_ds)\n",
    "    \n",
    "    \n",
    "    def classify(self, model=LogisticRegression(random_state=42)):\n",
    "        model.fit(self.X_train, self.y_train)\n",
    "        y_pred = model.predict(self.X_test)\n",
    "        print('Accuracy: {}'.format(accuracy_score(self.y_test, y_pred)))\n",
    "\n",
    "\n",
    "    def Kmeans(self, output='add'):\n",
    "        n_clusters = len(np.unique(self.y_train))\n",
    "        clf = KMeans(n_clusters = n_clusters, random_state=42)\n",
    "        clf.fit(self.X_train)\n",
    "        y_labels_train = clf.labels_\n",
    "        y_labels_test = clf.predict(self.X_test)\n",
    "        if output == 'add':\n",
    "            self.X_train['km_clust'] = y_labels_train\n",
    "            self.X_test['km_clust'] = y_labels_test\n",
    "        elif output == 'replace':\n",
    "            self.X_train = y_labels_train[:, np.newaxis]\n",
    "            self.X_test = y_labels_test[:, np.newaxis]\n",
    "        else:\n",
    "            raise ValueError('output should be either add or replace')\n",
    "        return self"
   ]
  },
  {
   "cell_type": "code",
   "execution_count": 8,
   "metadata": {},
   "outputs": [
    {
     "output_type": "execute_result",
     "data": {
      "text/plain": "Individual Key                    3.358534e+07\nHousehold Key                     1.597040e+07\nZIP5                              2.944900e+03\nZIP9                              2.945248e+07\nLength Of Residence               1.152498e+01\nDo Not Direct Mail Solicit        5.285105e-02\nEmail Available                   5.361008e-01\nERS ENT Count Year 1              5.185607e-01\nERS ENT Count Year 2              9.362519e-01\nERS ENT Count Year 3              9.597601e-01\nERS Member Cost Year 1            2.806817e+01\nERS Member Cost Year 2            5.097063e+01\nERS Member Cost Year 3            4.951812e+01\nRight_Individual Key              3.358644e+07\nMember Key                        2.521610e+06\nMember Number Associate ID        1.153178e+07\nMember Tenure Years               3.295624e+01\nMembership ID                     1.153177e+05\nMonths from Join to Cancel        2.961616e+02\nZIP                               2.980749e+03\nBasic Cost                        4.262959e+01\nCalculated Tow Miles              2.379071e+00\nDispatch Code2Description                  NaN\nIs Duplicate                      0.000000e+00\nIs NSR                            5.915553e-02\nMember Match Flag                 1.000000e+00\nMember Number and Associate ID    1.090849e+07\nPlus Cost                         3.450947e+00\nPremier Cost                      6.901014e-03\nRec ID                            7.568128e+06\nTotal Cost                        4.727370e+01\nTow Destination Latitude          1.512045e+01\nTow Destination Longitude        -2.610489e+01\nWas Duplicated                    6.515682e-02\nWas Towed To AAR Referral         1.364578e-02\ndtype: float64"
     },
     "metadata": {},
     "execution_count": 8
    }
   ],
   "source": [
    "df.mean ()"
   ]
  },
  {
   "cell_type": "code",
   "execution_count": 9,
   "metadata": {},
   "outputs": [
    {
     "output_type": "stream",
     "name": "stdout",
     "text": "Your selected dataframe has 112 columns.\nThere are 97 columns that have missing values.\n"
    },
    {
     "output_type": "execute_result",
     "data": {
      "text/plain": "                           Missing Values  % of Total Values\nDispatch Code2Description           21344              100.0\nProb2 Code Description              21336              100.0\nReason Joined                       20956               98.2\nReinstate Date                      20849               97.7\nMove Distance                       20703               97.0\n...                                   ...                ...\nMembership ID                           1                0.0\nOpt-Out - Publication                   1                0.0\nZIP                                     1                0.0\nNew Mover Flag                          1                0.0\nRenew Method                            1                0.0\n\n[97 rows x 2 columns]",
      "text/html": "<div>\n<style scoped>\n    .dataframe tbody tr th:only-of-type {\n        vertical-align: middle;\n    }\n\n    .dataframe tbody tr th {\n        vertical-align: top;\n    }\n\n    .dataframe thead th {\n        text-align: right;\n    }\n</style>\n<table border=\"1\" class=\"dataframe\">\n  <thead>\n    <tr style=\"text-align: right;\">\n      <th></th>\n      <th>Missing Values</th>\n      <th>% of Total Values</th>\n    </tr>\n  </thead>\n  <tbody>\n    <tr>\n      <th>Dispatch Code2Description</th>\n      <td>21344</td>\n      <td>100.0</td>\n    </tr>\n    <tr>\n      <th>Prob2 Code Description</th>\n      <td>21336</td>\n      <td>100.0</td>\n    </tr>\n    <tr>\n      <th>Reason Joined</th>\n      <td>20956</td>\n      <td>98.2</td>\n    </tr>\n    <tr>\n      <th>Reinstate Date</th>\n      <td>20849</td>\n      <td>97.7</td>\n    </tr>\n    <tr>\n      <th>Move Distance</th>\n      <td>20703</td>\n      <td>97.0</td>\n    </tr>\n    <tr>\n      <th>...</th>\n      <td>...</td>\n      <td>...</td>\n    </tr>\n    <tr>\n      <th>Membership ID</th>\n      <td>1</td>\n      <td>0.0</td>\n    </tr>\n    <tr>\n      <th>Opt-Out - Publication</th>\n      <td>1</td>\n      <td>0.0</td>\n    </tr>\n    <tr>\n      <th>ZIP</th>\n      <td>1</td>\n      <td>0.0</td>\n    </tr>\n    <tr>\n      <th>New Mover Flag</th>\n      <td>1</td>\n      <td>0.0</td>\n    </tr>\n    <tr>\n      <th>Renew Method</th>\n      <td>1</td>\n      <td>0.0</td>\n    </tr>\n  </tbody>\n</table>\n<p>97 rows × 2 columns</p>\n</div>"
     },
     "metadata": {},
     "execution_count": 9
    }
   ],
   "source": [
    "missing_values_table (df)"
   ]
  },
  {
   "cell_type": "code",
   "execution_count": null,
   "metadata": {},
   "outputs": [],
   "source": []
  },
  {
   "cell_type": "code",
   "execution_count": null,
   "metadata": {},
   "outputs": [],
   "source": []
  },
  {
   "cell_type": "code",
   "execution_count": null,
   "metadata": {},
   "outputs": [],
   "source": []
  },
  {
   "cell_type": "code",
   "execution_count": null,
   "metadata": {},
   "outputs": [],
   "source": []
  }
 ],
 "metadata": {
  "language_info": {
   "codemirror_mode": {
    "name": "ipython",
    "version": 3
   },
   "file_extension": ".py",
   "mimetype": "text/x-python",
   "name": "python",
   "nbconvert_exporter": "python",
   "pygments_lexer": "ipython3",
   "version": "3.7.6-final"
  },
  "orig_nbformat": 2,
  "kernelspec": {
   "name": "python3",
   "display_name": "Python 3"
  }
 },
 "nbformat": 4,
 "nbformat_minor": 2
}