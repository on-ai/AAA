{
 "cells": [
  {
   "cell_type": "markdown",
   "metadata": {},
   "source": [
    "# AAA Northeast Customer Clustering"
   ]
  },
  {
   "cell_type": "code",
   "execution_count": 59,
   "metadata": {},
   "outputs": [],
   "source": [
    "%matplotlib inline\n",
    "import numpy as np\n",
    "import pandas as pd\n",
    "import matplotlib.pyplot as plt"
   ]
  },
  {
   "cell_type": "code",
   "execution_count": 60,
   "metadata": {},
   "outputs": [],
   "source": [
    "from IPython.core.interactiveshell import InteractiveShell\n",
    "InteractiveShell.ast_node_interactivity = \"all\""
   ]
  },
  {
   "cell_type": "code",
   "execution_count": 61,
   "metadata": {},
   "outputs": [
    {
     "name": "stdout",
     "output_type": "stream",
     "text": [
      "<class 'pandas.core.frame.DataFrame'>\n",
      "RangeIndex: 3511 entries, 0 to 3510\n",
      "Columns: 253 entries, Household Key to New Mover Flag\n",
      "dtypes: float64(244), object(9)\n",
      "memory usage: 6.8+ MB\n"
     ]
    }
   ],
   "source": [
    "df = pd.read_csv('../data/processed_data.csv')\n",
    "df.info()"
   ]
  },
  {
   "cell_type": "code",
   "execution_count": 62,
   "metadata": {},
   "outputs": [
    {
     "data": {
      "text/plain": [
       "Index(['Household Key', 'Length Of Residence mean',\n",
       "       'Do Not Direct Mail Solicit mean', 'Email Available mean',\n",
       "       'ERS ENT Count Year 1 sum', 'ERS ENT Count Year 1 mean',\n",
       "       'ERS ENT Count Year 2 sum', 'ERS ENT Count Year 2 mean',\n",
       "       'ERS ENT Count Year 3 sum', 'ERS ENT Count Year 3 mean',\n",
       "       'ERS Member Cost Year 1 sum', 'ERS Member Cost Year 1 mean',\n",
       "       'ERS Member Cost Year 2 sum', 'ERS Member Cost Year 2 mean',\n",
       "       'ERS Member Cost Year 3 sum', 'ERS Member Cost Year 3 mean',\n",
       "       'Member Tenure Years mean', 'Cost 2014 sum', 'Cost 2015 sum',\n",
       "       'Cost 2016 sum', 'Cost 2017 sum', 'Cost 2018 sum', 'Cost 2019 sum',\n",
       "       'Total Cost sum', 'Number of Children mean', 'Income mean',\n",
       "       'Credit Ranges mean', 'AssociateMember sum', 'PrimaryMember sum',\n",
       "       'x0_1746.0'],\n",
       "      dtype='object')"
      ]
     },
     "execution_count": 62,
     "metadata": {},
     "output_type": "execute_result"
    }
   ],
   "source": [
    "df.columns[:30]"
   ]
  },
  {
   "cell_type": "markdown",
   "metadata": {},
   "source": [
    "## Data Exploration\n",
    "### Product Usage\n",
    "Only a small portion of households using the products. The most used product has lower than 30% of the usage.<br>\n",
    "Financial products under 5% won't be part of the study. They require a manual assessment, if any."
   ]
  },
  {
   "cell_type": "code",
   "execution_count": 63,
   "metadata": {},
   "outputs": [],
   "source": [
    "product_list = ['FSV CMSI Flag', 'FSV Credit Card Flag', 'FSV Deposit Program Flag', \n",
    "                'FSV Home Equity Flag', 'FSV ID Theft Flag', 'FSV Mortgage Flag',\n",
    "                'INS Client Flag', 'TRV Globalware Flag', 'New Mover Flag']"
   ]
  },
  {
   "cell_type": "code",
   "execution_count": 65,
   "metadata": {},
   "outputs": [],
   "source": [
    "#  Convert Y/N into 1/0, only if the OneEncoder results were not saved previously onto disk\n",
    "for product in product_list:\n",
    "    df[product] = np.where(df[product] == 'Y', 1, df[product])\n",
    "    df[product] = np.where(df[product] == 'N', 0, df[product])"
   ]
  },
  {
   "cell_type": "code",
   "execution_count": 56,
   "metadata": {},
   "outputs": [
    {
     "data": {
      "text/html": [
       "<div>\n",
       "<style scoped>\n",
       "    .dataframe tbody tr th:only-of-type {\n",
       "        vertical-align: middle;\n",
       "    }\n",
       "\n",
       "    .dataframe tbody tr th {\n",
       "        vertical-align: top;\n",
       "    }\n",
       "\n",
       "    .dataframe thead th {\n",
       "        text-align: right;\n",
       "    }\n",
       "</style>\n",
       "<table border=\"1\" class=\"dataframe\">\n",
       "  <thead>\n",
       "    <tr style=\"text-align: right;\">\n",
       "      <th></th>\n",
       "      <th>Percent of Usage</th>\n",
       "      <th>Count of Usage</th>\n",
       "    </tr>\n",
       "  </thead>\n",
       "  <tbody>\n",
       "    <tr>\n",
       "      <th>INS Client Flag</th>\n",
       "      <td>0.281686</td>\n",
       "      <td>989</td>\n",
       "    </tr>\n",
       "    <tr>\n",
       "      <th>TRV Globalware Flag</th>\n",
       "      <td>0.179151</td>\n",
       "      <td>629</td>\n",
       "    </tr>\n",
       "    <tr>\n",
       "      <th>FSV Credit Card Flag</th>\n",
       "      <td>0.136144</td>\n",
       "      <td>478</td>\n",
       "    </tr>\n",
       "    <tr>\n",
       "      <th>FSV CMSI Flag</th>\n",
       "      <td>0.082598</td>\n",
       "      <td>290</td>\n",
       "    </tr>\n",
       "    <tr>\n",
       "      <th>FSV ID Theft Flag</th>\n",
       "      <td>0.058103</td>\n",
       "      <td>204</td>\n",
       "    </tr>\n",
       "    <tr>\n",
       "      <th>New Mover Flag</th>\n",
       "      <td>0.054400</td>\n",
       "      <td>191</td>\n",
       "    </tr>\n",
       "    <tr>\n",
       "      <th>FSV Deposit Program Flag</th>\n",
       "      <td>0.006551</td>\n",
       "      <td>23</td>\n",
       "    </tr>\n",
       "    <tr>\n",
       "      <th>FSV Mortgage Flag</th>\n",
       "      <td>0.003133</td>\n",
       "      <td>11</td>\n",
       "    </tr>\n",
       "    <tr>\n",
       "      <th>FSV Home Equity Flag</th>\n",
       "      <td>0.000854</td>\n",
       "      <td>3</td>\n",
       "    </tr>\n",
       "  </tbody>\n",
       "</table>\n",
       "</div>"
      ],
      "text/plain": [
       "                          Percent of Usage Count of Usage\n",
       "INS Client Flag                   0.281686            989\n",
       "TRV Globalware Flag               0.179151            629\n",
       "FSV Credit Card Flag              0.136144            478\n",
       "FSV CMSI Flag                     0.082598            290\n",
       "FSV ID Theft Flag                 0.058103            204\n",
       "New Mover Flag                    0.054400            191\n",
       "FSV Deposit Program Flag          0.006551             23\n",
       "FSV Mortgage Flag                 0.003133             11\n",
       "FSV Home Equity Flag              0.000854              3"
      ]
     },
     "execution_count": 56,
     "metadata": {},
     "output_type": "execute_result"
    }
   ],
   "source": [
    "df_product_pct = pd.DataFrame({'Percent of Usage': df[product_list].mean()}\n",
    "                             ).join(pd.DataFrame({'Count of Usage': df[product_list].sum()}))\n",
    "df_product_pct.sort_values(['Percent of Usage'], ascending = False)"
   ]
  },
  {
   "cell_type": "markdown",
   "metadata": {},
   "source": [
    "Around 45% of the households do not use any products from AAA Northeast."
   ]
  },
  {
   "cell_type": "code",
   "execution_count": 57,
   "metadata": {},
   "outputs": [
    {
     "data": {
      "text/plain": [
       "0    0.452578\n",
       "Name: counts, dtype: float64"
      ]
     },
     "execution_count": 57,
     "metadata": {},
     "output_type": "execute_result"
    }
   ],
   "source": [
    "# Logic if the encoded values remained Y/N\n",
    "# df_values = df[product_list].apply(lambda row: ''.join(row.values.astype(str)), axis=1)\n",
    "# df_concat = df_values.value_counts().rename_axis('unique_values').reset_index(name='counts')\n",
    "# search_val = df_concat.loc[df_concat['unique_values'] == 'NNNNNNNNN']['counts']/len(df_values)\n",
    "# search_val\n",
    "\n",
    "# Logic if the encoded values are 1/0\n",
    "df_values = df[product_list].apply(lambda row: ''.join(row.values.astype(str)), axis=1)\n",
    "df_concat = df_values.value_counts().rename_axis('unique_values').reset_index(name='counts')\n",
    "search_val = df_concat.loc[df_concat['unique_values'] == '000000000']['counts']/len(df_values)\n",
    "search_val\n"
   ]
  },
  {
   "cell_type": "markdown",
   "metadata": {},
   "source": [
    "## Predictive Analysis\n",
    "We could use classification models to predict the probability of an household buying a product on the products with more than 1% of household usage. The models build on these products should have be better in generalization than other low-usage products.\n",
    "\n",
    "For all products with over 5% user, apply the following process for modeling:\n",
    "- Upsampling\n",
    "- Create training & test set based on upsampled dataset\n",
    "- Grid search using Decision Tree (Set the max of depth to 10 instead of None to avoid overfitting)\n",
    "- Apply bagging with 100 estimators using decision tree and best parameters"
   ]
  },
  {
   "cell_type": "code",
   "execution_count": 24,
   "metadata": {},
   "outputs": [],
   "source": [
    "from sklearn.utils import resample\n",
    "from sklearn.model_selection import train_test_split\n",
    "\n",
    "from sklearn.tree import DecisionTreeClassifier\n",
    "from sklearn.ensemble import BaggingClassifier\n",
    "\n",
    "from sklearn.model_selection import GridSearchCV\n",
    "from sklearn.metrics import accuracy_score\n",
    "from sklearn.metrics import roc_auc_score"
   ]
  },
  {
   "cell_type": "code",
   "execution_count": 25,
   "metadata": {
    "scrolled": false
   },
   "outputs": [
    {
     "name": "stdout",
     "output_type": "stream",
     "text": [
      "==== FSV CMSI Flag ====\n",
      "0    3221\n",
      "1    3221\n",
      "Name: FSV CMSI Flag, dtype: int64\n",
      "\n",
      "== Decision Tree ==\n",
      "Best Parameters: {'criterion': 'gini', 'max_depth': 8, 'min_samples_split': 2}\n",
      "Accuracy on Training Set: 1.0\n",
      "Accuracy on Test Set: 1.0 AUC: 1.0\n",
      "Accuracy on Original Dataset: 1.0 AUC: 1.0\n",
      "\n",
      "== Bagging ==\n",
      "Accuracy on Training Set: 1.0\n",
      "Accuracy on Test Set: 1.0 AUC: 1.0\n",
      "Accuracy on Original Dataset: 1.0 AUC: 1.0\n",
      "Prediction Count:\n",
      "0    3221\n",
      "1     290\n",
      "dtype: int64 \n",
      "\n",
      "==== FSV Credit Card Flag ====\n",
      "0    3033\n",
      "1    3033\n",
      "Name: FSV Credit Card Flag, dtype: int64\n",
      "\n",
      "== Decision Tree ==\n",
      "Best Parameters: {'criterion': 'gini', 'max_depth': 8, 'min_samples_split': 2}\n",
      "Accuracy on Training Set: 1.0\n",
      "Accuracy on Test Set: 1.0 AUC: 1.0\n",
      "Accuracy on Original Dataset: 1.0 AUC: 1.0\n",
      "\n",
      "== Bagging ==\n",
      "Accuracy on Training Set: 1.0\n",
      "Accuracy on Test Set: 1.0 AUC: 1.0\n",
      "Accuracy on Original Dataset: 1.0 AUC: 1.0\n",
      "Prediction Count:\n",
      "0    3033\n",
      "1     478\n",
      "dtype: int64 \n",
      "\n",
      "==== FSV Deposit Program Flag ====\n",
      "0    3488\n",
      "1    3488\n",
      "Name: FSV Deposit Program Flag, dtype: int64\n",
      "\n",
      "== Decision Tree ==\n",
      "Best Parameters: {'criterion': 'gini', 'max_depth': 8, 'min_samples_split': 2}\n",
      "Accuracy on Training Set: 1.0\n",
      "Accuracy on Test Set: 1.0 AUC: 1.0\n",
      "Accuracy on Original Dataset: 1.0 AUC: 1.0\n",
      "\n",
      "== Bagging ==\n",
      "Accuracy on Training Set: 1.0\n",
      "Accuracy on Test Set: 1.0 AUC: 1.0\n",
      "Accuracy on Original Dataset: 1.0 AUC: 1.0\n",
      "Prediction Count:\n",
      "0    3488\n",
      "1      23\n",
      "dtype: int64 \n",
      "\n",
      "==== FSV Home Equity Flag ====\n",
      "0    3508\n",
      "1    3508\n",
      "Name: FSV Home Equity Flag, dtype: int64\n",
      "\n",
      "== Decision Tree ==\n",
      "Best Parameters: {'criterion': 'gini', 'max_depth': 8, 'min_samples_split': 2}\n",
      "Accuracy on Training Set: 1.0\n",
      "Accuracy on Test Set: 1.0 AUC: 1.0\n",
      "Accuracy on Original Dataset: 1.0 AUC: 1.0\n",
      "\n",
      "== Bagging ==\n",
      "Accuracy on Training Set: 1.0\n",
      "Accuracy on Test Set: 1.0 AUC: 1.0\n",
      "Accuracy on Original Dataset: 1.0 AUC: 1.0\n",
      "Prediction Count:\n",
      "0    3508\n",
      "1       3\n",
      "dtype: int64 \n",
      "\n",
      "==== FSV ID Theft Flag ====\n",
      "0    3307\n",
      "1    3307\n",
      "Name: FSV ID Theft Flag, dtype: int64\n",
      "\n",
      "== Decision Tree ==\n",
      "Best Parameters: {'criterion': 'gini', 'max_depth': 8, 'min_samples_split': 2}\n",
      "Accuracy on Training Set: 1.0\n",
      "Accuracy on Test Set: 1.0 AUC: 1.0\n",
      "Accuracy on Original Dataset: 1.0 AUC: 1.0\n",
      "\n",
      "== Bagging ==\n",
      "Accuracy on Training Set: 1.0\n",
      "Accuracy on Test Set: 1.0 AUC: 1.0\n",
      "Accuracy on Original Dataset: 1.0 AUC: 1.0\n",
      "Prediction Count:\n",
      "0    3307\n",
      "1     204\n",
      "dtype: int64 \n",
      "\n",
      "==== FSV Mortgage Flag ====\n",
      "0    3500\n",
      "1    3500\n",
      "Name: FSV Mortgage Flag, dtype: int64\n",
      "\n",
      "== Decision Tree ==\n",
      "Best Parameters: {'criterion': 'gini', 'max_depth': 8, 'min_samples_split': 2}\n",
      "Accuracy on Training Set: 1.0\n",
      "Accuracy on Test Set: 1.0 AUC: 1.0\n",
      "Accuracy on Original Dataset: 1.0 AUC: 1.0\n",
      "\n",
      "== Bagging ==\n",
      "Accuracy on Training Set: 1.0\n",
      "Accuracy on Test Set: 1.0 AUC: 1.0\n",
      "Accuracy on Original Dataset: 1.0 AUC: 1.0\n",
      "Prediction Count:\n",
      "0    3500\n",
      "1      11\n",
      "dtype: int64 \n",
      "\n",
      "==== INS Client Flag ====\n",
      "0    2522\n",
      "1    2522\n",
      "Name: INS Client Flag, dtype: int64\n",
      "\n",
      "== Decision Tree ==\n",
      "Best Parameters: {'criterion': 'gini', 'max_depth': 8, 'min_samples_split': 2}\n",
      "Accuracy on Training Set: 1.0\n",
      "Accuracy on Test Set: 1.0 AUC: 1.0\n",
      "Accuracy on Original Dataset: 1.0 AUC: 1.0\n",
      "\n",
      "== Bagging ==\n",
      "Accuracy on Training Set: 1.0\n",
      "Accuracy on Test Set: 1.0 AUC: 1.0\n",
      "Accuracy on Original Dataset: 1.0 AUC: 1.0\n",
      "Prediction Count:\n",
      "0    2522\n",
      "1     989\n",
      "dtype: int64 \n",
      "\n",
      "==== TRV Globalware Flag ====\n",
      "0    2882\n",
      "1    2882\n",
      "Name: TRV Globalware Flag, dtype: int64\n",
      "\n",
      "== Decision Tree ==\n",
      "Best Parameters: {'criterion': 'gini', 'max_depth': 8, 'min_samples_split': 2}\n",
      "Accuracy on Training Set: 1.0\n",
      "Accuracy on Test Set: 1.0 AUC: 1.0\n",
      "Accuracy on Original Dataset: 1.0 AUC: 1.0\n",
      "\n",
      "== Bagging ==\n",
      "Accuracy on Training Set: 1.0\n",
      "Accuracy on Test Set: 1.0 AUC: 1.0\n",
      "Accuracy on Original Dataset: 1.0 AUC: 1.0\n",
      "Prediction Count:\n",
      "0    2882\n",
      "1     629\n",
      "dtype: int64 \n",
      "\n",
      "==== New Mover Flag ====\n",
      "0    3320\n",
      "1    3320\n",
      "Name: New Mover Flag, dtype: int64\n",
      "\n",
      "== Decision Tree ==\n",
      "Best Parameters: {'criterion': 'gini', 'max_depth': 8, 'min_samples_split': 2}\n",
      "Accuracy on Training Set: 1.0\n",
      "Accuracy on Test Set: 1.0 AUC: 1.0\n",
      "Accuracy on Original Dataset: 1.0 AUC: 1.0\n",
      "\n",
      "== Bagging ==\n",
      "Accuracy on Training Set: 1.0\n",
      "Accuracy on Test Set: 1.0 AUC: 1.0\n",
      "Accuracy on Original Dataset: 1.0 AUC: 1.0\n",
      "Prediction Count:\n",
      "0    3320\n",
      "1     191\n",
      "dtype: int64 \n",
      "\n",
      "Wall time: 33 s\n"
     ]
    }
   ],
   "source": [
    "%%time\n",
    "product_list_to_predict = ['FSV CMSI Flag', 'FSV Credit Card Flag', 'FSV ID Theft Flag',\n",
    "                           'INS Client Flag', 'TRV Globalware Flag', 'New Mover Flag']\n",
    "df_prob = pd.DataFrame()\n",
    "for prod in product_list:\n",
    "    # Up Sampling\n",
    "    # Separate majority and minority classes\n",
    "    df_majority = df[df[prod]==0]\n",
    "    df_minority = df[df[prod]==1]\n",
    "\n",
    "    # Upsample minority class\n",
    "    df_minority_upsampled = resample(df_minority, \n",
    "                                     replace=True,     # sample with replacement\n",
    "                                     n_samples=len(df_majority),    # to match majority class\n",
    "                                     random_state=72) # reproducible results\n",
    "\n",
    "    # Combine majority class with upsampled minority class\n",
    "    df_upsampled = pd.concat([df_majority, df_minority_upsampled])\n",
    "\n",
    "    # Display new class counts\n",
    "    print('====', prod, '====')\n",
    "    print(df_upsampled[prod].value_counts())\n",
    "    \n",
    "    # X - exclude total costs as it will be used for clustering\n",
    "    cols = [x for x in df_upsampled.columns if (x not in product_list\n",
    "                                               ) & (x not in ['Household Key', 'Total Cost sum'])]\n",
    "    X = df_upsampled[cols]\n",
    "\n",
    "    # y\n",
    "    y = df_upsampled[prod]\n",
    "        \n",
    "    # Training and testing sets    \n",
    "    X_train, X_test, y_train, y_test = train_test_split(X, y,\n",
    "                                                        test_size=0.2,\n",
    "                                                        stratify=y,\n",
    "                                                        random_state=75)\n",
    "    \n",
    "    # Train Decision Tree\n",
    "    param_grid = {'criterion': ['gini', 'entropy'],\n",
    "                  'max_depth': [8, 10, 12],\n",
    "                  'min_samples_split': [2, 3, 4]}\n",
    "    \n",
    "    gs_dt = GridSearchCV(DecisionTreeClassifier(), param_grid, cv=5)\n",
    "    gs_dt.fit(X_train, y_train)\n",
    "    print(\"\\n== Decision Tree ==\")\n",
    "    print(\"Best Parameters:\", gs_dt.best_params_)\n",
    "    print(\"Accuracy on Training Set:\", gs_dt.best_score_)\n",
    "\n",
    "    y_pred_prob = gs_dt.predict_proba(X_test)[:,1]\n",
    "    print(\"Accuracy on Test Set:\", gs_dt.score(X_test, y_test), \n",
    "          \"AUC:\", roc_auc_score(y_test, y_pred_prob))\n",
    "    \n",
    "    y_pred_prob = gs_dt.predict_proba(df[cols])[:,1]\n",
    "    print(\"Accuracy on Original Dataset:\", gs_dt.score(df[cols], df[prod]), \n",
    "          \"AUC:\", roc_auc_score(df[prod], y_pred_prob))\n",
    "    \n",
    "    # Train Bagging \n",
    "    dt = DecisionTreeClassifier(criterion=gs_dt.best_estimator_.criterion,\n",
    "                                max_depth=gs_dt.best_estimator_.max_depth,\n",
    "                                min_samples_split=gs_dt.best_estimator_.min_samples_split)\n",
    "    bg =  BaggingClassifier(dt, n_estimators = 100)\n",
    "    bg.fit(X_train, y_train)\n",
    "    print(\"\\n== Bagging ==\")\n",
    "    print(\"Accuracy on Training Set:\", bg.score(X_train, y_train))\n",
    "\n",
    "    y_pred_prob = bg.predict_proba(X_test)[:,1]\n",
    "    print(\"Accuracy on Test Set:\", bg.score(X_test, y_test),\n",
    "          \"AUC:\", roc_auc_score(y_test, y_pred_prob))\n",
    "    \n",
    "    y_pred_prob = bg.predict_proba(df[cols])[:,1]\n",
    "    print(\"Accuracy on Original Dataset:\", bg.score(df[cols], df[prod]),\n",
    "          \"AUC:\", roc_auc_score(df[prod], y_pred_prob))\n",
    "    \n",
    "    y_pred = bg.predict(df[cols])\n",
    "    print(\"Prediction Count:\")\n",
    "    print(pd.Series(y_pred).value_counts(), \"\\n\")\n",
    "    \n",
    "    df_prob[prod] = y_pred_prob\n"
   ]
  },
  {
   "cell_type": "code",
   "execution_count": 26,
   "metadata": {},
   "outputs": [
    {
     "data": {
      "text/html": [
       "<div>\n",
       "<style scoped>\n",
       "    .dataframe tbody tr th:only-of-type {\n",
       "        vertical-align: middle;\n",
       "    }\n",
       "\n",
       "    .dataframe tbody tr th {\n",
       "        vertical-align: top;\n",
       "    }\n",
       "\n",
       "    .dataframe thead th {\n",
       "        text-align: right;\n",
       "    }\n",
       "</style>\n",
       "<table border=\"1\" class=\"dataframe\">\n",
       "  <thead>\n",
       "    <tr style=\"text-align: right;\">\n",
       "      <th></th>\n",
       "      <th>FSV CMSI Flag</th>\n",
       "      <th>FSV Credit Card Flag</th>\n",
       "      <th>FSV Deposit Program Flag</th>\n",
       "      <th>FSV Home Equity Flag</th>\n",
       "      <th>FSV ID Theft Flag</th>\n",
       "      <th>FSV Mortgage Flag</th>\n",
       "      <th>INS Client Flag</th>\n",
       "      <th>TRV Globalware Flag</th>\n",
       "      <th>New Mover Flag</th>\n",
       "    </tr>\n",
       "  </thead>\n",
       "  <tbody>\n",
       "    <tr>\n",
       "      <th>0</th>\n",
       "      <td>0.0</td>\n",
       "      <td>1.0</td>\n",
       "      <td>0.0</td>\n",
       "      <td>0.0</td>\n",
       "      <td>0.0</td>\n",
       "      <td>0.0</td>\n",
       "      <td>0.0</td>\n",
       "      <td>0.0</td>\n",
       "      <td>1.0</td>\n",
       "    </tr>\n",
       "    <tr>\n",
       "      <th>1</th>\n",
       "      <td>0.0</td>\n",
       "      <td>0.0</td>\n",
       "      <td>0.0</td>\n",
       "      <td>0.0</td>\n",
       "      <td>0.0</td>\n",
       "      <td>0.0</td>\n",
       "      <td>1.0</td>\n",
       "      <td>0.0</td>\n",
       "      <td>0.0</td>\n",
       "    </tr>\n",
       "    <tr>\n",
       "      <th>2</th>\n",
       "      <td>0.0</td>\n",
       "      <td>0.0</td>\n",
       "      <td>0.0</td>\n",
       "      <td>0.0</td>\n",
       "      <td>0.0</td>\n",
       "      <td>0.0</td>\n",
       "      <td>0.0</td>\n",
       "      <td>1.0</td>\n",
       "      <td>0.0</td>\n",
       "    </tr>\n",
       "    <tr>\n",
       "      <th>3</th>\n",
       "      <td>0.0</td>\n",
       "      <td>0.0</td>\n",
       "      <td>0.0</td>\n",
       "      <td>0.0</td>\n",
       "      <td>0.0</td>\n",
       "      <td>0.0</td>\n",
       "      <td>0.0</td>\n",
       "      <td>1.0</td>\n",
       "      <td>0.0</td>\n",
       "    </tr>\n",
       "    <tr>\n",
       "      <th>4</th>\n",
       "      <td>0.0</td>\n",
       "      <td>0.0</td>\n",
       "      <td>0.0</td>\n",
       "      <td>0.0</td>\n",
       "      <td>0.0</td>\n",
       "      <td>0.0</td>\n",
       "      <td>1.0</td>\n",
       "      <td>1.0</td>\n",
       "      <td>0.0</td>\n",
       "    </tr>\n",
       "  </tbody>\n",
       "</table>\n",
       "</div>"
      ],
      "text/plain": [
       "   FSV CMSI Flag  FSV Credit Card Flag  FSV Deposit Program Flag  \\\n",
       "0            0.0                   1.0                       0.0   \n",
       "1            0.0                   0.0                       0.0   \n",
       "2            0.0                   0.0                       0.0   \n",
       "3            0.0                   0.0                       0.0   \n",
       "4            0.0                   0.0                       0.0   \n",
       "\n",
       "   FSV Home Equity Flag  FSV ID Theft Flag  FSV Mortgage Flag  \\\n",
       "0                   0.0                0.0                0.0   \n",
       "1                   0.0                0.0                0.0   \n",
       "2                   0.0                0.0                0.0   \n",
       "3                   0.0                0.0                0.0   \n",
       "4                   0.0                0.0                0.0   \n",
       "\n",
       "   INS Client Flag  TRV Globalware Flag  New Mover Flag  \n",
       "0              0.0                  0.0             1.0  \n",
       "1              1.0                  0.0             0.0  \n",
       "2              0.0                  1.0             0.0  \n",
       "3              0.0                  1.0             0.0  \n",
       "4              1.0                  1.0             0.0  "
      ]
     },
     "execution_count": 26,
     "metadata": {},
     "output_type": "execute_result"
    }
   ],
   "source": [
    "df_prob.head()"
   ]
  },
  {
   "cell_type": "code",
   "execution_count": 27,
   "metadata": {},
   "outputs": [
    {
     "data": {
      "text/html": [
       "<div>\n",
       "<style scoped>\n",
       "    .dataframe tbody tr th:only-of-type {\n",
       "        vertical-align: middle;\n",
       "    }\n",
       "\n",
       "    .dataframe tbody tr th {\n",
       "        vertical-align: top;\n",
       "    }\n",
       "\n",
       "    .dataframe thead th {\n",
       "        text-align: right;\n",
       "    }\n",
       "</style>\n",
       "<table border=\"1\" class=\"dataframe\">\n",
       "  <thead>\n",
       "    <tr style=\"text-align: right;\">\n",
       "      <th></th>\n",
       "      <th>FSV CMSI Flag</th>\n",
       "      <th>FSV Credit Card Flag</th>\n",
       "      <th>FSV Deposit Program Flag</th>\n",
       "      <th>FSV Home Equity Flag</th>\n",
       "      <th>FSV ID Theft Flag</th>\n",
       "      <th>FSV Mortgage Flag</th>\n",
       "      <th>INS Client Flag</th>\n",
       "      <th>TRV Globalware Flag</th>\n",
       "      <th>New Mover Flag</th>\n",
       "    </tr>\n",
       "  </thead>\n",
       "  <tbody>\n",
       "    <tr>\n",
       "      <th>count</th>\n",
       "      <td>3511.000000</td>\n",
       "      <td>3511.000000</td>\n",
       "      <td>3511.000000</td>\n",
       "      <td>3511.000000</td>\n",
       "      <td>3511.000000</td>\n",
       "      <td>3511.000000</td>\n",
       "      <td>3511.000000</td>\n",
       "      <td>3511.000000</td>\n",
       "      <td>3511.000000</td>\n",
       "    </tr>\n",
       "    <tr>\n",
       "      <th>mean</th>\n",
       "      <td>0.082598</td>\n",
       "      <td>0.136144</td>\n",
       "      <td>0.006551</td>\n",
       "      <td>0.000854</td>\n",
       "      <td>0.058103</td>\n",
       "      <td>0.003133</td>\n",
       "      <td>0.281686</td>\n",
       "      <td>0.179151</td>\n",
       "      <td>0.054400</td>\n",
       "    </tr>\n",
       "    <tr>\n",
       "      <th>std</th>\n",
       "      <td>0.275312</td>\n",
       "      <td>0.342990</td>\n",
       "      <td>0.080683</td>\n",
       "      <td>0.029223</td>\n",
       "      <td>0.233972</td>\n",
       "      <td>0.055894</td>\n",
       "      <td>0.449885</td>\n",
       "      <td>0.383534</td>\n",
       "      <td>0.226838</td>\n",
       "    </tr>\n",
       "    <tr>\n",
       "      <th>min</th>\n",
       "      <td>0.000000</td>\n",
       "      <td>0.000000</td>\n",
       "      <td>0.000000</td>\n",
       "      <td>0.000000</td>\n",
       "      <td>0.000000</td>\n",
       "      <td>0.000000</td>\n",
       "      <td>0.000000</td>\n",
       "      <td>0.000000</td>\n",
       "      <td>0.000000</td>\n",
       "    </tr>\n",
       "    <tr>\n",
       "      <th>25%</th>\n",
       "      <td>0.000000</td>\n",
       "      <td>0.000000</td>\n",
       "      <td>0.000000</td>\n",
       "      <td>0.000000</td>\n",
       "      <td>0.000000</td>\n",
       "      <td>0.000000</td>\n",
       "      <td>0.000000</td>\n",
       "      <td>0.000000</td>\n",
       "      <td>0.000000</td>\n",
       "    </tr>\n",
       "    <tr>\n",
       "      <th>50%</th>\n",
       "      <td>0.000000</td>\n",
       "      <td>0.000000</td>\n",
       "      <td>0.000000</td>\n",
       "      <td>0.000000</td>\n",
       "      <td>0.000000</td>\n",
       "      <td>0.000000</td>\n",
       "      <td>0.000000</td>\n",
       "      <td>0.000000</td>\n",
       "      <td>0.000000</td>\n",
       "    </tr>\n",
       "    <tr>\n",
       "      <th>75%</th>\n",
       "      <td>0.000000</td>\n",
       "      <td>0.000000</td>\n",
       "      <td>0.000000</td>\n",
       "      <td>0.000000</td>\n",
       "      <td>0.000000</td>\n",
       "      <td>0.000000</td>\n",
       "      <td>1.000000</td>\n",
       "      <td>0.000000</td>\n",
       "      <td>0.000000</td>\n",
       "    </tr>\n",
       "    <tr>\n",
       "      <th>max</th>\n",
       "      <td>1.000000</td>\n",
       "      <td>1.000000</td>\n",
       "      <td>1.000000</td>\n",
       "      <td>1.000000</td>\n",
       "      <td>1.000000</td>\n",
       "      <td>1.000000</td>\n",
       "      <td>1.000000</td>\n",
       "      <td>1.000000</td>\n",
       "      <td>1.000000</td>\n",
       "    </tr>\n",
       "  </tbody>\n",
       "</table>\n",
       "</div>"
      ],
      "text/plain": [
       "       FSV CMSI Flag  FSV Credit Card Flag  FSV Deposit Program Flag  \\\n",
       "count    3511.000000           3511.000000               3511.000000   \n",
       "mean        0.082598              0.136144                  0.006551   \n",
       "std         0.275312              0.342990                  0.080683   \n",
       "min         0.000000              0.000000                  0.000000   \n",
       "25%         0.000000              0.000000                  0.000000   \n",
       "50%         0.000000              0.000000                  0.000000   \n",
       "75%         0.000000              0.000000                  0.000000   \n",
       "max         1.000000              1.000000                  1.000000   \n",
       "\n",
       "       FSV Home Equity Flag  FSV ID Theft Flag  FSV Mortgage Flag  \\\n",
       "count           3511.000000        3511.000000        3511.000000   \n",
       "mean               0.000854           0.058103           0.003133   \n",
       "std                0.029223           0.233972           0.055894   \n",
       "min                0.000000           0.000000           0.000000   \n",
       "25%                0.000000           0.000000           0.000000   \n",
       "50%                0.000000           0.000000           0.000000   \n",
       "75%                0.000000           0.000000           0.000000   \n",
       "max                1.000000           1.000000           1.000000   \n",
       "\n",
       "       INS Client Flag  TRV Globalware Flag  New Mover Flag  \n",
       "count      3511.000000          3511.000000     3511.000000  \n",
       "mean          0.281686             0.179151        0.054400  \n",
       "std           0.449885             0.383534        0.226838  \n",
       "min           0.000000             0.000000        0.000000  \n",
       "25%           0.000000             0.000000        0.000000  \n",
       "50%           0.000000             0.000000        0.000000  \n",
       "75%           1.000000             0.000000        0.000000  \n",
       "max           1.000000             1.000000        1.000000  "
      ]
     },
     "execution_count": 27,
     "metadata": {},
     "output_type": "execute_result"
    }
   ],
   "source": [
    "df_prob.describe()"
   ]
  },
  {
   "cell_type": "markdown",
   "metadata": {},
   "source": [
    "**With high AUC on predicting all products in the original dataset, we can be confident that the probability of purchsing would be a good reference on current and potential buyers of each product.**"
   ]
  },
  {
   "cell_type": "markdown",
   "metadata": {},
   "source": [
    "## Predict Cost in Next 12 Months\n",
    "We can use the cost before year 2019 as year n-1, n-2, and so on to predict the cost in year 2019. Afterwards, we can use treat year 2019 as year n-1, year 2018 as year n-2, and so on to preduct the cost in year 2020. \n",
    "\n",
    "Based on the difinition, ERS ENT Count Year 1 and ERS Member Cost Year 1 happen in year 2019, so we can't use them to predict the cost in 2019. However, they can be used to predict the cost in 2020.\n",
    "\n",
    "One assumption here is that the household info would remain the same in year 2020 as we don't have the projected household info of year 2020."
   ]
  },
  {
   "cell_type": "code",
   "execution_count": 28,
   "metadata": {},
   "outputs": [
    {
     "name": "stdout",
     "output_type": "stream",
     "text": [
      "<class 'pandas.core.frame.DataFrame'>\n",
      "RangeIndex: 3511 entries, 0 to 3510\n",
      "Data columns (total 25 columns):\n",
      " #   Column                           Non-Null Count  Dtype   \n",
      "---  ------                           --------------  -----   \n",
      " 0   Length Of Residence mean         3511 non-null   float64 \n",
      " 1   Do Not Direct Mail Solicit mean  3511 non-null   float64 \n",
      " 2   Email Available mean             3511 non-null   float64 \n",
      " 3   ERS ENT Count Year n-1           3511 non-null   float64 \n",
      " 4   ERS ENT Count Year n-2           3511 non-null   float64 \n",
      " 5   ERS Member Cost Year n-1         3511 non-null   float64 \n",
      " 6   ERS Member Cost Year n-2         3511 non-null   float64 \n",
      " 7   Member Tenure Years mean         3511 non-null   float64 \n",
      " 8   Cost n-5                         3511 non-null   float64 \n",
      " 9   Cost n-4                         3511 non-null   float64 \n",
      " 10  Cost n-3                         3511 non-null   float64 \n",
      " 11  Cost n-2                         3511 non-null   float64 \n",
      " 12  Cost n-1                         3511 non-null   float64 \n",
      " 13  Cost 2019 sum                    3511 non-null   float64 \n",
      " 14  Number of Children mean          3511 non-null   float64 \n",
      " 15  Income mean                      3511 non-null   float64 \n",
      " 16  Credit Ranges mean               3511 non-null   float64 \n",
      " 17  AssociateMember sum              3511 non-null   float64 \n",
      " 18  PrimaryMember sum                3511 non-null   float64 \n",
      " 19  x0_1746.0                        3511 non-null   category\n",
      " 20  x0_1867.0                        3511 non-null   category\n",
      " 21  x0_1905.0                        3511 non-null   category\n",
      " 22  x0_2769.0                        3511 non-null   category\n",
      " 23  x0_2802.0                        3511 non-null   category\n",
      " 24  x0_2804.0                        3511 non-null   category\n",
      "dtypes: category(6), float64(19)\n",
      "memory usage: 542.6 KB\n"
     ]
    }
   ],
   "source": [
    "df_cost_prediction = df.drop(['Household Key', 'Total Cost sum', \n",
    "                              'ERS ENT Count Year 1 sum', 'ERS ENT Count Year 1 mean',\n",
    "                              'ERS ENT Count Year 2 mean', 'ERS ENT Count Year 3 mean', \n",
    "                              'ERS Member Cost Year 1 sum', 'ERS Member Cost Year 1 mean',\n",
    "                              'ERS Member Cost Year 2 mean', 'ERS Member Cost Year 3 mean'\n",
    "                             ] + product_list, axis = 1)\n",
    "    # Categorical variables\n",
    "cat_cols = [x for x in df_cost_prediction.columns if x.startswith('x')]\n",
    "for col in cat_cols:\n",
    "    df_cost_prediction[col] = df_cost_prediction[col].astype('category')\n",
    "df_cost_prediction = df_cost_prediction.rename(columns = \n",
    "                                               {'Cost 2018 sum': 'Cost n-1',\n",
    "                                                'Cost 2017 sum': 'Cost n-2',\n",
    "                                                'Cost 2016 sum': 'Cost n-3',\n",
    "                                                'Cost 2015 sum': 'Cost n-4',\n",
    "                                                'Cost 2014 sum': 'Cost n-5',\n",
    "                                                'ERS ENT Count Year 2 sum': 'ERS ENT Count Year n-1',\n",
    "                                                'ERS ENT Count Year 3 sum': 'ERS ENT Count Year n-2',\n",
    "                                                'ERS Member Cost Year 2 sum': 'ERS Member Cost Year n-1',\n",
    "                                                'ERS Member Cost Year 3 sum': 'ERS Member Cost Year n-2'})\n",
    "df_cost_prediction.iloc[:, :25].info()"
   ]
  },
  {
   "cell_type": "code",
   "execution_count": 29,
   "metadata": {},
   "outputs": [
    {
     "data": {
      "text/html": [
       "<div>\n",
       "<style scoped>\n",
       "    .dataframe tbody tr th:only-of-type {\n",
       "        vertical-align: middle;\n",
       "    }\n",
       "\n",
       "    .dataframe tbody tr th {\n",
       "        vertical-align: top;\n",
       "    }\n",
       "\n",
       "    .dataframe thead th {\n",
       "        text-align: right;\n",
       "    }\n",
       "</style>\n",
       "<table border=\"1\" class=\"dataframe\">\n",
       "  <thead>\n",
       "    <tr style=\"text-align: right;\">\n",
       "      <th></th>\n",
       "      <th>Length Of Residence mean</th>\n",
       "      <th>Do Not Direct Mail Solicit mean</th>\n",
       "      <th>Email Available mean</th>\n",
       "      <th>ERS ENT Count Year n-1</th>\n",
       "      <th>ERS ENT Count Year n-2</th>\n",
       "      <th>ERS Member Cost Year n-1</th>\n",
       "      <th>ERS Member Cost Year n-2</th>\n",
       "      <th>Member Tenure Years mean</th>\n",
       "      <th>Cost n-5</th>\n",
       "      <th>Cost n-4</th>\n",
       "      <th>...</th>\n",
       "      <th>x10_N</th>\n",
       "      <th>x10_Y</th>\n",
       "      <th>x11_N</th>\n",
       "      <th>x11_Y</th>\n",
       "      <th>x12_N</th>\n",
       "      <th>x12_Y</th>\n",
       "      <th>x13_N</th>\n",
       "      <th>x13_Y</th>\n",
       "      <th>x14_N</th>\n",
       "      <th>x14_Y</th>\n",
       "    </tr>\n",
       "  </thead>\n",
       "  <tbody>\n",
       "    <tr>\n",
       "      <th>0</th>\n",
       "      <td>14.000000</td>\n",
       "      <td>0.0</td>\n",
       "      <td>0.500000</td>\n",
       "      <td>1.0</td>\n",
       "      <td>4.0</td>\n",
       "      <td>58.85</td>\n",
       "      <td>347.16</td>\n",
       "      <td>32.500000</td>\n",
       "      <td>243.0</td>\n",
       "      <td>446.0</td>\n",
       "      <td>...</td>\n",
       "      <td>1.0</td>\n",
       "      <td>0.0</td>\n",
       "      <td>1.0</td>\n",
       "      <td>0.0</td>\n",
       "      <td>1.0</td>\n",
       "      <td>0.0</td>\n",
       "      <td>1.0</td>\n",
       "      <td>0.0</td>\n",
       "      <td>0.0</td>\n",
       "      <td>1.0</td>\n",
       "    </tr>\n",
       "    <tr>\n",
       "      <th>1</th>\n",
       "      <td>14.000000</td>\n",
       "      <td>0.0</td>\n",
       "      <td>0.750000</td>\n",
       "      <td>2.0</td>\n",
       "      <td>3.0</td>\n",
       "      <td>156.85</td>\n",
       "      <td>301.19</td>\n",
       "      <td>35.500000</td>\n",
       "      <td>0.0</td>\n",
       "      <td>58.0</td>\n",
       "      <td>...</td>\n",
       "      <td>1.0</td>\n",
       "      <td>0.0</td>\n",
       "      <td>1.0</td>\n",
       "      <td>0.0</td>\n",
       "      <td>0.0</td>\n",
       "      <td>1.0</td>\n",
       "      <td>1.0</td>\n",
       "      <td>0.0</td>\n",
       "      <td>1.0</td>\n",
       "      <td>0.0</td>\n",
       "    </tr>\n",
       "    <tr>\n",
       "      <th>2</th>\n",
       "      <td>15.000000</td>\n",
       "      <td>0.0</td>\n",
       "      <td>1.000000</td>\n",
       "      <td>0.0</td>\n",
       "      <td>0.0</td>\n",
       "      <td>0.00</td>\n",
       "      <td>0.00</td>\n",
       "      <td>13.000000</td>\n",
       "      <td>0.0</td>\n",
       "      <td>0.0</td>\n",
       "      <td>...</td>\n",
       "      <td>1.0</td>\n",
       "      <td>0.0</td>\n",
       "      <td>1.0</td>\n",
       "      <td>0.0</td>\n",
       "      <td>1.0</td>\n",
       "      <td>0.0</td>\n",
       "      <td>0.0</td>\n",
       "      <td>1.0</td>\n",
       "      <td>1.0</td>\n",
       "      <td>0.0</td>\n",
       "    </tr>\n",
       "    <tr>\n",
       "      <th>3</th>\n",
       "      <td>13.333333</td>\n",
       "      <td>0.0</td>\n",
       "      <td>1.000000</td>\n",
       "      <td>5.0</td>\n",
       "      <td>3.0</td>\n",
       "      <td>277.90</td>\n",
       "      <td>159.00</td>\n",
       "      <td>38.000000</td>\n",
       "      <td>0.0</td>\n",
       "      <td>0.0</td>\n",
       "      <td>...</td>\n",
       "      <td>1.0</td>\n",
       "      <td>0.0</td>\n",
       "      <td>1.0</td>\n",
       "      <td>0.0</td>\n",
       "      <td>1.0</td>\n",
       "      <td>0.0</td>\n",
       "      <td>0.0</td>\n",
       "      <td>1.0</td>\n",
       "      <td>1.0</td>\n",
       "      <td>0.0</td>\n",
       "    </tr>\n",
       "    <tr>\n",
       "      <th>4</th>\n",
       "      <td>15.000000</td>\n",
       "      <td>0.0</td>\n",
       "      <td>0.333333</td>\n",
       "      <td>0.0</td>\n",
       "      <td>0.0</td>\n",
       "      <td>0.00</td>\n",
       "      <td>0.00</td>\n",
       "      <td>27.666667</td>\n",
       "      <td>0.0</td>\n",
       "      <td>60.0</td>\n",
       "      <td>...</td>\n",
       "      <td>1.0</td>\n",
       "      <td>0.0</td>\n",
       "      <td>1.0</td>\n",
       "      <td>0.0</td>\n",
       "      <td>0.0</td>\n",
       "      <td>1.0</td>\n",
       "      <td>0.0</td>\n",
       "      <td>1.0</td>\n",
       "      <td>1.0</td>\n",
       "      <td>0.0</td>\n",
       "    </tr>\n",
       "  </tbody>\n",
       "</table>\n",
       "<p>5 rows × 234 columns</p>\n",
       "</div>"
      ],
      "text/plain": [
       "   Length Of Residence mean  Do Not Direct Mail Solicit mean  \\\n",
       "0                 14.000000                              0.0   \n",
       "1                 14.000000                              0.0   \n",
       "2                 15.000000                              0.0   \n",
       "3                 13.333333                              0.0   \n",
       "4                 15.000000                              0.0   \n",
       "\n",
       "   Email Available mean  ERS ENT Count Year n-1  ERS ENT Count Year n-2  \\\n",
       "0              0.500000                     1.0                     4.0   \n",
       "1              0.750000                     2.0                     3.0   \n",
       "2              1.000000                     0.0                     0.0   \n",
       "3              1.000000                     5.0                     3.0   \n",
       "4              0.333333                     0.0                     0.0   \n",
       "\n",
       "   ERS Member Cost Year n-1  ERS Member Cost Year n-2  \\\n",
       "0                     58.85                    347.16   \n",
       "1                    156.85                    301.19   \n",
       "2                      0.00                      0.00   \n",
       "3                    277.90                    159.00   \n",
       "4                      0.00                      0.00   \n",
       "\n",
       "   Member Tenure Years mean  Cost n-5  Cost n-4  ...  x10_N  x10_Y  x11_N  \\\n",
       "0                 32.500000     243.0     446.0  ...    1.0    0.0    1.0   \n",
       "1                 35.500000       0.0      58.0  ...    1.0    0.0    1.0   \n",
       "2                 13.000000       0.0       0.0  ...    1.0    0.0    1.0   \n",
       "3                 38.000000       0.0       0.0  ...    1.0    0.0    1.0   \n",
       "4                 27.666667       0.0      60.0  ...    1.0    0.0    1.0   \n",
       "\n",
       "   x11_Y  x12_N  x12_Y  x13_N  x13_Y  x14_N x14_Y  \n",
       "0    0.0    1.0    0.0    1.0    0.0    0.0   1.0  \n",
       "1    0.0    0.0    1.0    1.0    0.0    1.0   0.0  \n",
       "2    0.0    1.0    0.0    0.0    1.0    1.0   0.0  \n",
       "3    0.0    1.0    0.0    0.0    1.0    1.0   0.0  \n",
       "4    0.0    0.0    1.0    0.0    1.0    1.0   0.0  \n",
       "\n",
       "[5 rows x 234 columns]"
      ]
     },
     "execution_count": 29,
     "metadata": {},
     "output_type": "execute_result"
    }
   ],
   "source": [
    "df_cost_prediction.head()"
   ]
  },
  {
   "cell_type": "code",
   "execution_count": 30,
   "metadata": {},
   "outputs": [
    {
     "data": {
      "text/plain": [
       "(array([2.337e+03, 2.490e+02, 5.000e+02, 6.900e+01, 4.600e+01, 1.400e+02,\n",
       "        4.700e+01, 4.400e+01, 1.400e+01, 9.000e+00, 1.800e+01, 1.300e+01,\n",
       "        9.000e+00, 2.000e+00, 5.000e+00, 5.000e+00, 0.000e+00, 1.000e+00,\n",
       "        0.000e+00, 1.000e+00, 0.000e+00, 1.000e+00, 0.000e+00, 0.000e+00,\n",
       "        1.000e+00]),\n",
       " array([  0.    ,  23.3668,  46.7336,  70.1004,  93.4672, 116.834 ,\n",
       "        140.2008, 163.5676, 186.9344, 210.3012, 233.668 , 257.0348,\n",
       "        280.4016, 303.7684, 327.1352, 350.502 , 373.8688, 397.2356,\n",
       "        420.6024, 443.9692, 467.336 , 490.7028, 514.0696, 537.4364,\n",
       "        560.8032, 584.17  ]),\n",
       " <BarContainer object of 25 artists>)"
      ]
     },
     "execution_count": 30,
     "metadata": {},
     "output_type": "execute_result"
    },
    {
     "data": {
      "image/png": "[encoded data removed]",
      "text/plain": [
       "<Figure size 432x288 with 1 Axes>"
      ]
     },
     "metadata": {
      "needs_background": "light"
     },
     "output_type": "display_data"
    }
   ],
   "source": [
    "plt.hist(df_cost_prediction['Cost 2019 sum'], bins=25)\n",
    "plt.show()"
   ]
  },
  {
   "cell_type": "code",
   "execution_count": 31,
   "metadata": {},
   "outputs": [
    {
     "data": {
      "text/plain": [
       "count    3511.000000\n",
       "mean       29.002273\n",
       "std        55.264674\n",
       "min         0.000000\n",
       "25%         0.000000\n",
       "50%         0.000000\n",
       "75%        58.850000\n",
       "max       584.170000\n",
       "Name: Cost 2019 sum, dtype: float64"
      ]
     },
     "execution_count": 31,
     "metadata": {},
     "output_type": "execute_result"
    }
   ],
   "source": [
    "df_cost_prediction['Cost 2019 sum'].describe()"
   ]
  },
  {
   "cell_type": "code",
   "execution_count": 32,
   "metadata": {},
   "outputs": [
    {
     "data": {
      "text/plain": [
       "0.3383651381372828"
      ]
     },
     "execution_count": 32,
     "metadata": {},
     "output_type": "execute_result"
    }
   ],
   "source": [
    "# Percentage of households with costs greater than 0 in 2019\n",
    "len(df_cost_prediction['Cost 2019 sum'\n",
    "                      ][df_cost_prediction['Cost 2019 sum'\n",
    "                                          ] > 0]) / len(df_cost_prediction['Cost 2019 sum'])"
   ]
  },
  {
   "cell_type": "markdown",
   "metadata": {},
   "source": [
    "**The majority of households didn't generate any costs in 2019. Therefore, the question is modified to a classification question to identify the probability of a household generating cost in 2020**"
   ]
  },
  {
   "cell_type": "code",
   "execution_count": 33,
   "metadata": {},
   "outputs": [],
   "source": [
    "from sklearn.linear_model import LogisticRegression"
   ]
  },
  {
   "cell_type": "code",
   "execution_count": 34,
   "metadata": {},
   "outputs": [],
   "source": [
    "X = df_cost_prediction.drop(['Cost 2019 sum'], axis=1)\n",
    "# y = df_cost_prediction[['Cost 2019 sum']]\n",
    "y = [1 if x > 0 else 0 for x in df_cost_prediction['Cost 2019 sum']]\n",
    "X_train, X_test, y_train, y_test = train_test_split(X, y, test_size = 0.3, random_state = 28)"
   ]
  },
  {
   "cell_type": "code",
   "execution_count": 35,
   "metadata": {},
   "outputs": [
    {
     "name": "stdout",
     "output_type": "stream",
     "text": [
      "Best Parameters: {'C': 9, 'max_iter': 1000, 'tol': 10}\n",
      "Accuracy on Training Set: 0.7305623168247976\n",
      "Accuracy on Test Set: 0.7590132827324478\n",
      "AUC: 0.7649802926862099\n"
     ]
    },
    {
     "ename": "ValueError",
     "evalue": "Number of features of the model must match the input. Model n_features is 242 and input n_features is 233.",
     "output_type": "error",
     "traceback": [
      "\u001b[1;31m---------------------------------------------------------------------------\u001b[0m",
      "\u001b[1;31mValueError\u001b[0m                                Traceback (most recent call last)",
      "\u001b[1;32m<timed exec>\u001b[0m in \u001b[0;36m<module>\u001b[1;34m\u001b[0m\n",
      "\u001b[1;32md:\\anaconda3\\lib\\site-packages\\sklearn\\base.py\u001b[0m in \u001b[0;36mscore\u001b[1;34m(self, X, y, sample_weight)\u001b[0m\n\u001b[0;32m    498\u001b[0m         \"\"\"\n\u001b[0;32m    499\u001b[0m         \u001b[1;32mfrom\u001b[0m \u001b[1;33m.\u001b[0m\u001b[0mmetrics\u001b[0m \u001b[1;32mimport\u001b[0m \u001b[0maccuracy_score\u001b[0m\u001b[1;33m\u001b[0m\u001b[1;33m\u001b[0m\u001b[0m\n\u001b[1;32m--> 500\u001b[1;33m         \u001b[1;32mreturn\u001b[0m \u001b[0maccuracy_score\u001b[0m\u001b[1;33m(\u001b[0m\u001b[0my\u001b[0m\u001b[1;33m,\u001b[0m \u001b[0mself\u001b[0m\u001b[1;33m.\u001b[0m\u001b[0mpredict\u001b[0m\u001b[1;33m(\u001b[0m\u001b[0mX\u001b[0m\u001b[1;33m)\u001b[0m\u001b[1;33m,\u001b[0m \u001b[0msample_weight\u001b[0m\u001b[1;33m=\u001b[0m\u001b[0msample_weight\u001b[0m\u001b[1;33m)\u001b[0m\u001b[1;33m\u001b[0m\u001b[1;33m\u001b[0m\u001b[0m\n\u001b[0m\u001b[0;32m    501\u001b[0m \u001b[1;33m\u001b[0m\u001b[0m\n\u001b[0;32m    502\u001b[0m     \u001b[1;32mdef\u001b[0m \u001b[0m_more_tags\u001b[0m\u001b[1;33m(\u001b[0m\u001b[0mself\u001b[0m\u001b[1;33m)\u001b[0m\u001b[1;33m:\u001b[0m\u001b[1;33m\u001b[0m\u001b[1;33m\u001b[0m\u001b[0m\n",
      "\u001b[1;32md:\\anaconda3\\lib\\site-packages\\sklearn\\ensemble\\_bagging.py\u001b[0m in \u001b[0;36mpredict\u001b[1;34m(self, X)\u001b[0m\n\u001b[0;32m    675\u001b[0m             \u001b[0mThe\u001b[0m \u001b[0mpredicted\u001b[0m \u001b[0mclasses\u001b[0m\u001b[1;33m.\u001b[0m\u001b[1;33m\u001b[0m\u001b[1;33m\u001b[0m\u001b[0m\n\u001b[0;32m    676\u001b[0m         \"\"\"\n\u001b[1;32m--> 677\u001b[1;33m         \u001b[0mpredicted_probabilitiy\u001b[0m \u001b[1;33m=\u001b[0m \u001b[0mself\u001b[0m\u001b[1;33m.\u001b[0m\u001b[0mpredict_proba\u001b[0m\u001b[1;33m(\u001b[0m\u001b[0mX\u001b[0m\u001b[1;33m)\u001b[0m\u001b[1;33m\u001b[0m\u001b[1;33m\u001b[0m\u001b[0m\n\u001b[0m\u001b[0;32m    678\u001b[0m         return self.classes_.take((np.argmax(predicted_probabilitiy, axis=1)),\n\u001b[0;32m    679\u001b[0m                                   axis=0)\n",
      "\u001b[1;32md:\\anaconda3\\lib\\site-packages\\sklearn\\ensemble\\_bagging.py\u001b[0m in \u001b[0;36mpredict_proba\u001b[1;34m(self, X)\u001b[0m\n\u001b[0;32m    709\u001b[0m \u001b[1;33m\u001b[0m\u001b[0m\n\u001b[0;32m    710\u001b[0m         \u001b[1;32mif\u001b[0m \u001b[0mself\u001b[0m\u001b[1;33m.\u001b[0m\u001b[0mn_features_\u001b[0m \u001b[1;33m!=\u001b[0m \u001b[0mX\u001b[0m\u001b[1;33m.\u001b[0m\u001b[0mshape\u001b[0m\u001b[1;33m[\u001b[0m\u001b[1;36m1\u001b[0m\u001b[1;33m]\u001b[0m\u001b[1;33m:\u001b[0m\u001b[1;33m\u001b[0m\u001b[1;33m\u001b[0m\u001b[0m\n\u001b[1;32m--> 711\u001b[1;33m             raise ValueError(\"Number of features of the model must \"\n\u001b[0m\u001b[0;32m    712\u001b[0m                              \u001b[1;34m\"match the input. Model n_features is {0} and \"\u001b[0m\u001b[1;33m\u001b[0m\u001b[1;33m\u001b[0m\u001b[0m\n\u001b[0;32m    713\u001b[0m                              \u001b[1;34m\"input n_features is {1}.\"\u001b[0m\u001b[1;33m\u001b[0m\u001b[1;33m\u001b[0m\u001b[0m\n",
      "\u001b[1;31mValueError\u001b[0m: Number of features of the model must match the input. Model n_features is 242 and input n_features is 233."
     ]
    }
   ],
   "source": [
    "%%time\n",
    "param_grid = {'C': [15-6, 1e-5, 1e-4], \n",
    "              'tol': [10, 1, 0.1], \n",
    "              'max_iter': [1000, 1500]}\n",
    "gs_lr = GridSearchCV(LogisticRegression(), param_grid, cv=5)\n",
    "gs_lr.fit(X_train, y_train)\n",
    "print(\"Best Parameters:\", gs_lr.best_params_)\n",
    "print(\"Accuracy on Training Set:\", gs_lr.best_score_)\n",
    "\n",
    "y_pred_prob = gs_lr.predict_proba(X_test)[:,1]\n",
    "print(\"Accuracy on Test Set:\", gs_lr.score(X_test, y_test))\n",
    "print(\"AUC:\", roc_auc_score(y_test, y_pred_prob))\n",
    "\n",
    "y_pred_prob = gs_lr.predict_proba(X)[:,1]\n",
    "print(\"Accuracy on Original Dataset:\", bg.score(X, y),\n",
    "      \"AUC:\", roc_auc_score(y, y_pred_prob))"
   ]
  },
  {
   "cell_type": "code",
   "execution_count": 36,
   "metadata": {},
   "outputs": [
    {
     "data": {
      "text/plain": [
       "0    867\n",
       "1    187\n",
       "dtype: int64"
      ]
     },
     "execution_count": 36,
     "metadata": {},
     "output_type": "execute_result"
    }
   ],
   "source": [
    "y_pred = gs_lr.predict(X_test)\n",
    "pd.Series(y_pred).value_counts()"
   ]
  },
  {
   "cell_type": "code",
   "execution_count": 37,
   "metadata": {},
   "outputs": [
    {
     "name": "stdout",
     "output_type": "stream",
     "text": [
      "\n",
      "== Decision Tree ==\n",
      "Best Parameters: {'criterion': 'gini', 'max_depth': 3, 'min_samples_split': 2}\n",
      "Accuracy on Training Set: 0.7488732137830543\n",
      "Accuracy on Test Set: 0.7637571157495257 AUC: 0.7615898775496469\n",
      "Accuracy on Original Dataset: 0.7630304756479636 AUC: 0.7779692824354899\n",
      "\n",
      "== Bagging ==\n",
      "Accuracy on Training Set: 0.7619047619047619\n",
      "Accuracy on Test Set: 0.7685009487666035 AUC: 0.7779278085551194\n",
      "Accuracy on Original Dataset: 0.7638849330675022 AUC: 0.8016848786327908\n",
      "Prediction Count:\n",
      "0    2402\n",
      "1    1109\n",
      "dtype: int64 \n",
      "\n",
      "Wall time: 4.78 s\n"
     ]
    }
   ],
   "source": [
    "%%time\n",
    "# Train Decision Tree\n",
    "param_grid = {'criterion': ['gini', 'entropy'],\n",
    "              'max_depth': [2, 3, 5],\n",
    "              'min_samples_split': [2, 3, 4]}\n",
    "\n",
    "gs_dt = GridSearchCV(DecisionTreeClassifier(), param_grid, cv=5)\n",
    "gs_dt.fit(X_train, y_train)\n",
    "print(\"\\n== Decision Tree ==\")\n",
    "print(\"Best Parameters:\", gs_dt.best_params_)\n",
    "print(\"Accuracy on Training Set:\", gs_dt.best_score_)\n",
    "\n",
    "y_pred_prob = gs_dt.predict_proba(X_test)[:,1]\n",
    "print(\"Accuracy on Test Set:\", gs_dt.score(X_test, y_test), \n",
    "      \"AUC:\", roc_auc_score(y_test, y_pred_prob))\n",
    "    \n",
    "y_pred_prob = gs_dt.predict_proba(X)[:,1]\n",
    "print(\"Accuracy on Original Dataset:\", gs_dt.score(X, y), \n",
    "      \"AUC:\", roc_auc_score(y, y_pred_prob))\n",
    "\n",
    "# Train Bagging \n",
    "dt = DecisionTreeClassifier(criterion=gs_dt.best_estimator_.criterion,\n",
    "                            max_depth=gs_dt.best_estimator_.max_depth,\n",
    "                            min_samples_split=gs_dt.best_estimator_.min_samples_split)\n",
    "bg =  BaggingClassifier(dt, n_estimators = 100)\n",
    "bg.fit(X_train, y_train)\n",
    "print(\"\\n== Bagging ==\")\n",
    "print(\"Accuracy on Training Set:\", bg.score(X_train, y_train))\n",
    "\n",
    "y_pred_prob = bg.predict_proba(X_test)[:,1]\n",
    "print(\"Accuracy on Test Set:\", bg.score(X_test, y_test),\n",
    "      \"AUC:\", roc_auc_score(y_test, y_pred_prob))\n",
    "    \n",
    "y_pred_prob = bg.predict_proba(X)[:,1]\n",
    "print(\"Accuracy on Original Dataset:\", bg.score(X, y),\n",
    "      \"AUC:\", roc_auc_score(y, y_pred_prob))\n",
    "    \n",
    "y_pred = bg.predict(X)\n",
    "print(\"Prediction Count:\")\n",
    "print(pd.Series(y_pred).value_counts(), \"\\n\")"
   ]
  },
  {
   "cell_type": "code",
   "execution_count": 38,
   "metadata": {},
   "outputs": [
    {
     "name": "stdout",
     "output_type": "stream",
     "text": [
      "<class 'pandas.core.frame.DataFrame'>\n",
      "RangeIndex: 3511 entries, 0 to 3510\n",
      "Data columns (total 25 columns):\n",
      " #   Column                           Non-Null Count  Dtype  \n",
      "---  ------                           --------------  -----  \n",
      " 0   Length Of Residence mean         3511 non-null   float64\n",
      " 1   Do Not Direct Mail Solicit mean  3511 non-null   float64\n",
      " 2   Email Available mean             3511 non-null   float64\n",
      " 3   ERS ENT Count Year n-1           3511 non-null   float64\n",
      " 4   ERS ENT Count Year n-2           3511 non-null   float64\n",
      " 5   ERS Member Cost Year n-1         3511 non-null   float64\n",
      " 6   ERS Member Cost Year n-2         3511 non-null   float64\n",
      " 7   Member Tenure Years mean         3511 non-null   float64\n",
      " 8   Cost n-5                         3511 non-null   float64\n",
      " 9   Cost n-4                         3511 non-null   float64\n",
      " 10  Cost n-3                         3511 non-null   float64\n",
      " 11  Cost n-2                         3511 non-null   float64\n",
      " 12  Cost n-1                         3511 non-null   float64\n",
      " 13  Number of Children mean          3511 non-null   float64\n",
      " 14  Income mean                      3511 non-null   float64\n",
      " 15  Credit Ranges mean               3511 non-null   float64\n",
      " 16  AssociateMember sum              3511 non-null   float64\n",
      " 17  PrimaryMember sum                3511 non-null   float64\n",
      " 18  x0_1746.0                        3511 non-null   float64\n",
      " 19  x0_1867.0                        3511 non-null   float64\n",
      " 20  x0_1905.0                        3511 non-null   float64\n",
      " 21  x0_2769.0                        3511 non-null   float64\n",
      " 22  x0_2802.0                        3511 non-null   float64\n",
      " 23  x0_2804.0                        3511 non-null   float64\n",
      " 24  x0_2806.0                        3511 non-null   float64\n",
      "dtypes: float64(25)\n",
      "memory usage: 685.9 KB\n"
     ]
    }
   ],
   "source": [
    "df_2020_prediction = df.drop(['Household Key','Cost 2014 sum', 'Total Cost sum', \n",
    "                              'ERS ENT Count Year 3 sum', 'ERS ENT Count Year 1 mean',\n",
    "                              'ERS ENT Count Year 2 mean', 'ERS ENT Count Year 3 mean', \n",
    "                              'ERS Member Cost Year 3 sum', 'ERS Member Cost Year 1 mean',\n",
    "                              'ERS Member Cost Year 2 mean', 'ERS Member Cost Year 3 mean'\n",
    "                             ] + product_list, axis = 1)\n",
    "    # Categorical variables\n",
    "cat_cols = [x for x in df_2020_prediction.columns if x.startswith('x')]\n",
    "for col in cat_cols:\n",
    "    df_cost_prediction[col] = df_cost_prediction[col].astype('category')\n",
    "df_2020_prediction = df_2020_prediction.rename(columns=\n",
    "                                               {'Cost 2019 sum': 'Cost n-1',\n",
    "                                                'Cost 2018 sum': 'Cost n-2',\n",
    "                                                'Cost 2017 sum': 'Cost n-3',\n",
    "                                                'Cost 2016 sum': 'Cost n-4',\n",
    "                                                'Cost 2015 sum': 'Cost n-5',\n",
    "                                                'ERS ENT Count Year 1 sum': 'ERS ENT Count Year n-1',\n",
    "                                                'ERS ENT Count Year 2 sum': 'ERS ENT Count Year n-2',\n",
    "                                                'ERS Member Cost Year 1 sum': 'ERS Member Cost Year n-1',\n",
    "                                                'ERS Member Cost Year 2 sum': 'ERS Member Cost Year n-2'})\n",
    "df_2020_prediction.iloc[:, :25].info()"
   ]
  },
  {
   "cell_type": "code",
   "execution_count": 39,
   "metadata": {},
   "outputs": [
    {
     "name": "stdout",
     "output_type": "stream",
     "text": [
      "Prediction Count:\n",
      "0    3253\n",
      "1     258\n",
      "dtype: int64\n"
     ]
    }
   ],
   "source": [
    "df_prob['Cost'] = bg.predict_proba(df_2020_prediction)[:,1]\n",
    "y_pred = bg.predict(df_2020_prediction)\n",
    "print(\"Prediction Count:\")\n",
    "print(pd.Series(y_pred).value_counts())"
   ]
  },
  {
   "cell_type": "code",
   "execution_count": 40,
   "metadata": {},
   "outputs": [
    {
     "data": {
      "text/html": [
       "<div>\n",
       "<style scoped>\n",
       "    .dataframe tbody tr th:only-of-type {\n",
       "        vertical-align: middle;\n",
       "    }\n",
       "\n",
       "    .dataframe tbody tr th {\n",
       "        vertical-align: top;\n",
       "    }\n",
       "\n",
       "    .dataframe thead th {\n",
       "        text-align: right;\n",
       "    }\n",
       "</style>\n",
       "<table border=\"1\" class=\"dataframe\">\n",
       "  <thead>\n",
       "    <tr style=\"text-align: right;\">\n",
       "      <th></th>\n",
       "      <th>FSV CMSI Flag</th>\n",
       "      <th>FSV Credit Card Flag</th>\n",
       "      <th>FSV Deposit Program Flag</th>\n",
       "      <th>FSV Home Equity Flag</th>\n",
       "      <th>FSV ID Theft Flag</th>\n",
       "      <th>FSV Mortgage Flag</th>\n",
       "      <th>INS Client Flag</th>\n",
       "      <th>TRV Globalware Flag</th>\n",
       "      <th>New Mover Flag</th>\n",
       "      <th>Cost</th>\n",
       "    </tr>\n",
       "  </thead>\n",
       "  <tbody>\n",
       "    <tr>\n",
       "      <th>0</th>\n",
       "      <td>0.0</td>\n",
       "      <td>1.0</td>\n",
       "      <td>0.0</td>\n",
       "      <td>0.0</td>\n",
       "      <td>0.0</td>\n",
       "      <td>0.0</td>\n",
       "      <td>0.0</td>\n",
       "      <td>0.0</td>\n",
       "      <td>1.0</td>\n",
       "      <td>0.498423</td>\n",
       "    </tr>\n",
       "    <tr>\n",
       "      <th>1</th>\n",
       "      <td>0.0</td>\n",
       "      <td>0.0</td>\n",
       "      <td>0.0</td>\n",
       "      <td>0.0</td>\n",
       "      <td>0.0</td>\n",
       "      <td>0.0</td>\n",
       "      <td>1.0</td>\n",
       "      <td>0.0</td>\n",
       "      <td>0.0</td>\n",
       "      <td>0.396900</td>\n",
       "    </tr>\n",
       "    <tr>\n",
       "      <th>2</th>\n",
       "      <td>0.0</td>\n",
       "      <td>0.0</td>\n",
       "      <td>0.0</td>\n",
       "      <td>0.0</td>\n",
       "      <td>0.0</td>\n",
       "      <td>0.0</td>\n",
       "      <td>0.0</td>\n",
       "      <td>1.0</td>\n",
       "      <td>0.0</td>\n",
       "      <td>0.132594</td>\n",
       "    </tr>\n",
       "    <tr>\n",
       "      <th>3</th>\n",
       "      <td>0.0</td>\n",
       "      <td>0.0</td>\n",
       "      <td>0.0</td>\n",
       "      <td>0.0</td>\n",
       "      <td>0.0</td>\n",
       "      <td>0.0</td>\n",
       "      <td>0.0</td>\n",
       "      <td>1.0</td>\n",
       "      <td>0.0</td>\n",
       "      <td>0.451623</td>\n",
       "    </tr>\n",
       "    <tr>\n",
       "      <th>4</th>\n",
       "      <td>0.0</td>\n",
       "      <td>0.0</td>\n",
       "      <td>0.0</td>\n",
       "      <td>0.0</td>\n",
       "      <td>0.0</td>\n",
       "      <td>0.0</td>\n",
       "      <td>1.0</td>\n",
       "      <td>1.0</td>\n",
       "      <td>0.0</td>\n",
       "      <td>0.402688</td>\n",
       "    </tr>\n",
       "  </tbody>\n",
       "</table>\n",
       "</div>"
      ],
      "text/plain": [
       "   FSV CMSI Flag  FSV Credit Card Flag  FSV Deposit Program Flag  \\\n",
       "0            0.0                   1.0                       0.0   \n",
       "1            0.0                   0.0                       0.0   \n",
       "2            0.0                   0.0                       0.0   \n",
       "3            0.0                   0.0                       0.0   \n",
       "4            0.0                   0.0                       0.0   \n",
       "\n",
       "   FSV Home Equity Flag  FSV ID Theft Flag  FSV Mortgage Flag  \\\n",
       "0                   0.0                0.0                0.0   \n",
       "1                   0.0                0.0                0.0   \n",
       "2                   0.0                0.0                0.0   \n",
       "3                   0.0                0.0                0.0   \n",
       "4                   0.0                0.0                0.0   \n",
       "\n",
       "   INS Client Flag  TRV Globalware Flag  New Mover Flag      Cost  \n",
       "0              0.0                  0.0             1.0  0.498423  \n",
       "1              1.0                  0.0             0.0  0.396900  \n",
       "2              0.0                  1.0             0.0  0.132594  \n",
       "3              0.0                  1.0             0.0  0.451623  \n",
       "4              1.0                  1.0             0.0  0.402688  "
      ]
     },
     "execution_count": 40,
     "metadata": {},
     "output_type": "execute_result"
    }
   ],
   "source": [
    "df_prob.head()"
   ]
  },
  {
   "cell_type": "markdown",
   "metadata": {},
   "source": [
    "## Clustering"
   ]
  },
  {
   "cell_type": "code",
   "execution_count": 41,
   "metadata": {},
   "outputs": [],
   "source": [
    "from sklearn.cluster import KMeans"
   ]
  },
  {
   "cell_type": "code",
   "execution_count": 42,
   "metadata": {},
   "outputs": [
    {
     "name": "stderr",
     "output_type": "stream",
     "text": [
      "d:\\anaconda3\\lib\\site-packages\\sklearn\\cluster\\_kmeans.py:881: UserWarning: KMeans is known to have a memory leak on Windows with MKL, when there are less chunks than available threads. You can avoid it by setting the environment variable OMP_NUM_THREADS=14.\n",
      "  warnings.warn(\n"
     ]
    },
    {
     "data": {
      "text/plain": [
       "[<matplotlib.lines.Line2D at 0x2455a746d90>]"
      ]
     },
     "execution_count": 42,
     "metadata": {},
     "output_type": "execute_result"
    },
    {
     "data": {
      "text/plain": [
       "Text(0.5, 0, 'k')"
      ]
     },
     "execution_count": 42,
     "metadata": {},
     "output_type": "execute_result"
    },
    {
     "data": {
      "text/plain": [
       "Text(0, 0.5, 'Sum_of_squared_distances')"
      ]
     },
     "execution_count": 42,
     "metadata": {},
     "output_type": "execute_result"
    },
    {
     "data": {
      "text/plain": [
       "Text(0.5, 1.0, 'Elbow Method For Optimal k')"
      ]
     },
     "execution_count": 42,
     "metadata": {},
     "output_type": "execute_result"
    },
    {
     "data": {
      "image/png": "[encoded data removed]",
      "text/plain": [
       "<Figure size 432x288 with 1 Axes>"
      ]
     },
     "metadata": {
      "needs_background": "light"
     },
     "output_type": "display_data"
    }
   ],
   "source": [
    "Sum_of_squared_distances = []\n",
    "K = range(1,15)\n",
    "for k in K:\n",
    "    km = KMeans(n_clusters=k)\n",
    "    km = km.fit(df_prob)\n",
    "    Sum_of_squared_distances.append(km.inertia_)\n",
    "\n",
    "plt.plot(K, Sum_of_squared_distances, 'bx-')\n",
    "plt.xlabel('k')\n",
    "plt.ylabel('Sum_of_squared_distances')\n",
    "plt.title('Elbow Method For Optimal k')\n",
    "plt.show()"
   ]
  },
  {
   "cell_type": "code",
   "execution_count": 43,
   "metadata": {},
   "outputs": [
    {
     "data": {
      "text/html": [
       "<div>\n",
       "<style scoped>\n",
       "    .dataframe tbody tr th:only-of-type {\n",
       "        vertical-align: middle;\n",
       "    }\n",
       "\n",
       "    .dataframe tbody tr th {\n",
       "        vertical-align: top;\n",
       "    }\n",
       "\n",
       "    .dataframe thead th {\n",
       "        text-align: right;\n",
       "    }\n",
       "</style>\n",
       "<table border=\"1\" class=\"dataframe\">\n",
       "  <thead>\n",
       "    <tr style=\"text-align: right;\">\n",
       "      <th></th>\n",
       "      <th>INS Client Flag</th>\n",
       "      <th>TRV Globalware Flag</th>\n",
       "      <th>FSV Credit Card Flag</th>\n",
       "      <th>FSV CMSI Flag</th>\n",
       "      <th>FSV ID Theft Flag</th>\n",
       "      <th>New Mover Flag</th>\n",
       "      <th>FSV Deposit Program Flag</th>\n",
       "      <th>FSV Mortgage Flag</th>\n",
       "      <th>FSV Home Equity Flag</th>\n",
       "      <th>Cost</th>\n",
       "      <th>Cluster</th>\n",
       "    </tr>\n",
       "  </thead>\n",
       "  <tbody>\n",
       "    <tr>\n",
       "      <th>0</th>\n",
       "      <td>0.0</td>\n",
       "      <td>0.0</td>\n",
       "      <td>1.0</td>\n",
       "      <td>0.0</td>\n",
       "      <td>0.0</td>\n",
       "      <td>1.0</td>\n",
       "      <td>0.0</td>\n",
       "      <td>0.0</td>\n",
       "      <td>0.0</td>\n",
       "      <td>0.498423</td>\n",
       "      <td>5</td>\n",
       "    </tr>\n",
       "    <tr>\n",
       "      <th>1</th>\n",
       "      <td>1.0</td>\n",
       "      <td>0.0</td>\n",
       "      <td>0.0</td>\n",
       "      <td>0.0</td>\n",
       "      <td>0.0</td>\n",
       "      <td>0.0</td>\n",
       "      <td>0.0</td>\n",
       "      <td>0.0</td>\n",
       "      <td>0.0</td>\n",
       "      <td>0.396900</td>\n",
       "      <td>0</td>\n",
       "    </tr>\n",
       "    <tr>\n",
       "      <th>2</th>\n",
       "      <td>0.0</td>\n",
       "      <td>1.0</td>\n",
       "      <td>0.0</td>\n",
       "      <td>0.0</td>\n",
       "      <td>0.0</td>\n",
       "      <td>0.0</td>\n",
       "      <td>0.0</td>\n",
       "      <td>0.0</td>\n",
       "      <td>0.0</td>\n",
       "      <td>0.132594</td>\n",
       "      <td>3</td>\n",
       "    </tr>\n",
       "    <tr>\n",
       "      <th>3</th>\n",
       "      <td>0.0</td>\n",
       "      <td>1.0</td>\n",
       "      <td>0.0</td>\n",
       "      <td>0.0</td>\n",
       "      <td>0.0</td>\n",
       "      <td>0.0</td>\n",
       "      <td>0.0</td>\n",
       "      <td>0.0</td>\n",
       "      <td>0.0</td>\n",
       "      <td>0.451623</td>\n",
       "      <td>3</td>\n",
       "    </tr>\n",
       "    <tr>\n",
       "      <th>4</th>\n",
       "      <td>1.0</td>\n",
       "      <td>1.0</td>\n",
       "      <td>0.0</td>\n",
       "      <td>0.0</td>\n",
       "      <td>0.0</td>\n",
       "      <td>0.0</td>\n",
       "      <td>0.0</td>\n",
       "      <td>0.0</td>\n",
       "      <td>0.0</td>\n",
       "      <td>0.402688</td>\n",
       "      <td>7</td>\n",
       "    </tr>\n",
       "  </tbody>\n",
       "</table>\n",
       "</div>"
      ],
      "text/plain": [
       "   INS Client Flag  TRV Globalware Flag  FSV Credit Card Flag  FSV CMSI Flag  \\\n",
       "0              0.0                  0.0                   1.0            0.0   \n",
       "1              1.0                  0.0                   0.0            0.0   \n",
       "2              0.0                  1.0                   0.0            0.0   \n",
       "3              0.0                  1.0                   0.0            0.0   \n",
       "4              1.0                  1.0                   0.0            0.0   \n",
       "\n",
       "   FSV ID Theft Flag  New Mover Flag  FSV Deposit Program Flag  \\\n",
       "0                0.0             1.0                       0.0   \n",
       "1                0.0             0.0                       0.0   \n",
       "2                0.0             0.0                       0.0   \n",
       "3                0.0             0.0                       0.0   \n",
       "4                0.0             0.0                       0.0   \n",
       "\n",
       "   FSV Mortgage Flag  FSV Home Equity Flag      Cost  Cluster  \n",
       "0                0.0                   0.0  0.498423        5  \n",
       "1                0.0                   0.0  0.396900        0  \n",
       "2                0.0                   0.0  0.132594        3  \n",
       "3                0.0                   0.0  0.451623        3  \n",
       "4                0.0                   0.0  0.402688        7  "
      ]
     },
     "execution_count": 43,
     "metadata": {},
     "output_type": "execute_result"
    }
   ],
   "source": [
    "df_prob = df_prob[['INS Client Flag', 'TRV Globalware Flag', 'FSV Credit Card Flag', \n",
    "                   'FSV CMSI Flag', 'FSV ID Theft Flag', 'New Mover Flag', \n",
    "                   'FSV Deposit Program Flag', 'FSV Mortgage Flag', 'FSV Home Equity Flag',\n",
    "                   'Cost']]\n",
    "\n",
    "kmeans = KMeans(n_clusters=8).fit(df_prob.iloc[:,:9])\n",
    "df_prob['Cluster'] = kmeans.labels_\n",
    "df_prob.head()"
   ]
  },
  {
   "cell_type": "code",
   "execution_count": 44,
   "metadata": {},
   "outputs": [],
   "source": [
    "import seaborn as sns"
   ]
  },
  {
   "cell_type": "code",
   "execution_count": 45,
   "metadata": {},
   "outputs": [
    {
     "data": {
      "image/png": "[encoded data removed]",
      "text/plain": [
       "<Figure size 1843.5x1800 with 110 Axes>"
      ]
     },
     "metadata": {
      "needs_background": "light"
     },
     "output_type": "display_data"
    },
    {
     "name": "stdout",
     "output_type": "stream",
     "text": [
      "Wall time: 22.2 s\n"
     ]
    }
   ],
   "source": [
    "%%time\n",
    "sns.pairplot(df_prob, hue='Cluster')\n",
    "plt.show()"
   ]
  },
  {
   "cell_type": "markdown",
   "metadata": {},
   "source": [
    "### Clustering Summary\n",
    "\n",
    "#### Number of Clusters\n",
    "- From the chart, it seems 3 clusters is the optimal choice, but it doesn't actually reveal any product-level insights for business action.\n",
    "- When the households are clustered into **8 or 9 groups**, we can identify target audiences that shows high interest on a particular product for 7 products. \n",
    "\n",
    "#### Products\n",
    "- The two products that do not have a particular cluster standing out are FSV Mortgage and FSV Home Equity, which also have the lowest market peneratration. For these two products, we could simply focus on individual households with high probability of purchasing instead of a particular group.\n",
    "\n",
    "#### Cost\n",
    "- In addition, predicted cost does not have any noticeable difference across clusters, partly because cost is hard to predict. The cost could possibly be generated randomly as a customer only needs it in emergency."
   ]
  },
  {
   "cell_type": "markdown",
   "metadata": {},
   "source": [
    "## Appendix\n",
    "Applying other models - using 'INS Client Flag' as an example."
   ]
  },
  {
   "cell_type": "code",
   "execution_count": 34,
   "metadata": {},
   "outputs": [
    {
     "name": "stdout",
     "output_type": "stream",
     "text": [
      "Wall time: 1min 37s\n"
     ]
    }
   ],
   "source": [
    "from sklearn.preprocessing import MinMaxScaler\n",
    "\n",
    "from sklearn.neighbors import KNeighborsClassifier\n",
    "from sklearn.svm import SVC\n",
    "from sklearn.svm import LinearSVC\n",
    "from sklearn.ensemble import RandomForestClassifier, AdaBoostClassifier"
   ]
  },
  {
   "cell_type": "code",
   "execution_count": 35,
   "metadata": {},
   "outputs": [],
   "source": [
    "# Up Sampling\n",
    "# Separate majority and minority classes\n",
    "df_majority = df[df['INS Client Flag']==0]\n",
    "df_minority = df[df['INS Client Flag']==1]\n",
    "\n",
    "# Upsample minority class\n",
    "df_minority_upsampled = resample(df_minority, replace=True, \n",
    "                                 n_samples=len(df_majority), random_state=72)\n",
    "df_upsampled = pd.concat([df_majority, df_minority_upsampled])\n",
    "    \n",
    "cols = [x for x in df_upsampled.columns if (x not in product_list\n",
    "                                           ) & (x not in ['Household Key', 'Total Cost sum'])]\n",
    "\n",
    "X = df_upsampled[cols]\n",
    "# Scale \n",
    "scaler = MinMaxScaler()\n",
    "scaler.fit(X)\n",
    "df_scaled = scaler.transform(X)\n",
    "\n",
    "y = df_upsampled['INS Client Flag']\n",
    "\n",
    "X_train, X_test, y_train, y_test = train_test_split(X, y, test_size=0.2, stratify=y, random_state=75)"
   ]
  },
  {
   "cell_type": "markdown",
   "metadata": {},
   "source": [
    "#### kNN"
   ]
  },
  {
   "cell_type": "code",
   "execution_count": 36,
   "metadata": {},
   "outputs": [
    {
     "name": "stdout",
     "output_type": "stream",
     "text": [
      "Best Number of Neighbors: {'n_neighbors': 9}\n",
      "Accuracy on Training Set: 0.5888475836431226\n",
      "Accuracy on Test Set: 0.5966303270564915\n",
      "AUC: 0.6263004871915763\n",
      "Wall time: 1min 23s\n"
     ]
    }
   ],
   "source": [
    "%%time\n",
    "param_grid = {'n_neighbors': np.arange(8, 20)}\n",
    "gs_kNN = GridSearchCV(KNeighborsClassifier(), param_grid, cv=5)\n",
    "gs_kNN.fit(X_train, y_train)\n",
    "print(\"Best Number of Neighbors:\", gs_kNN.best_params_)\n",
    "print(\"Accuracy on Training Set:\", gs_kNN.best_score_)\n",
    "\n",
    "y_pred_prob = gs_kNN.predict_proba(X_test)[:,1]\n",
    "print(\"Accuracy on Test Set:\", gs_kNN.score(X_test, y_test))\n",
    "print(\"AUC:\", roc_auc_score(y_test, y_pred_prob))"
   ]
  },
  {
   "cell_type": "markdown",
   "metadata": {},
   "source": [
    "#### Logistic Regression"
   ]
  },
  {
   "cell_type": "code",
   "execution_count": 37,
   "metadata": {},
   "outputs": [
    {
     "name": "stdout",
     "output_type": "stream",
     "text": [
      "Best Parameters: {'max_iter': 1000, 'C': 0.0001, 'tol': 10}\n",
      "Accuracy on Training Set: 0.5563816604708798\n",
      "Accuracy on Test Set: 0.5441030723488602\n",
      "AUC: 0.5618890460474619\n",
      "Wall time: 35.4 s\n"
     ]
    }
   ],
   "source": [
    "%%time\n",
    "param_grid = {'C': [15-6, 1e-5, 1e-4], \n",
    "              'tol': [10, 1, 0.1], \n",
    "              'max_iter': [1000, 1500]}\n",
    "gs_lr = GridSearchCV(LogisticRegression(), param_grid, cv=5)\n",
    "gs_lr.fit(X_train, y_train)\n",
    "print(\"Best Parameters:\", gs_lr.best_params_)\n",
    "print(\"Accuracy on Training Set:\", gs_lr.best_score_)\n",
    "\n",
    "y_pred_prob = gs_lr.predict_proba(X_test)[:,1]\n",
    "print(\"Accuracy on Test Set:\", gs_lr.score(X_test, y_test))\n",
    "print(\"AUC:\", roc_auc_score(y_test, y_pred_prob))"
   ]
  },
  {
   "cell_type": "markdown",
   "metadata": {},
   "source": [
    "#### SVM\n",
    "SVM takes too much time to train."
   ]
  },
  {
   "cell_type": "markdown",
   "metadata": {},
   "source": [
    "#### Random Forest"
   ]
  },
  {
   "cell_type": "code",
   "execution_count": 38,
   "metadata": {},
   "outputs": [
    {
     "name": "stdout",
     "output_type": "stream",
     "text": [
      "Best Parameters: {'max_depth': 5, 'n_estimators': 100, 'max_features': 'auto'}\n",
      "Accuracy on Training Set: 0.6034696406443618\n",
      "Accuracy on Test Set: 0.6095143706640238\n",
      "AUC: 0.6556498506993556\n",
      "Wall time: 56.9 s\n"
     ]
    }
   ],
   "source": [
    "%%time\n",
    "param_grid = {'n_estimators':[50, 100, 150],\n",
    "              'max_depth': [3, 5], \n",
    "              'max_features': ['auto', 'sqrt']}\n",
    "rf = RandomForestClassifier()\n",
    "gs_rf = GridSearchCV(rf, param_grid, cv=5)\n",
    "gs_rf.fit(X_train, np.ravel(y_train))\n",
    "print(\"Best Parameters:\", gs_rf.best_params_)\n",
    "print(\"Accuracy on Training Set:\", gs_rf.best_score_)\n",
    "\n",
    "y_pred_prob = gs_rf.predict_proba(X_test)[:,1]\n",
    "print(\"Accuracy on Test Set:\", gs_rf.score(X_test, y_test))\n",
    "print(\"AUC:\", roc_auc_score(y_test, y_pred_prob))"
   ]
  },
  {
   "cell_type": "code",
   "execution_count": 39,
   "metadata": {},
   "outputs": [
    {
     "data": {
      "text/plain": [
       "0.0    567\n",
       "1.0    442\n",
       "dtype: int64"
      ]
     },
     "execution_count": 39,
     "metadata": {},
     "output_type": "execute_result"
    }
   ],
   "source": [
    "y_pred = gs_rf.predict(X_test)\n",
    "pd.Series(y_pred).value_counts()"
   ]
  }
 ],
 "metadata": {
  "kernelspec": {
   "display_name": "Python 3",
   "language": "python",
   "name": "python3"
  },
  "language_info": {
   "codemirror_mode": {
    "name": "ipython",
    "version": 3
   },
   "file_extension": ".py",
   "mimetype": "text/x-python",
   "name": "python",
   "nbconvert_exporter": "python",
   "pygments_lexer": "ipython3",
   "version": "3.9.7"
  }
 },
 "nbformat": 4,
 "nbformat_minor": 2
}
