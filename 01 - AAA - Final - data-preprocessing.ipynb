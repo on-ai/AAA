{
 "cells": [
  {
   "cell_type": "markdown",
   "metadata": {},
   "source": [
    "# AAA Northeast Customer Clustering"
   ]
  },
  {
   "cell_type": "markdown",
   "metadata": {},
   "source": [
    "## Assumptions\n",
    "- We only have the current address of the customers, so we assume that most customers live in the same city most of the time."
   ]
  },
  {
   "cell_type": "code",
   "execution_count": 1,
   "metadata": {},
   "outputs": [],
   "source": [
    "%matplotlib inline\n",
    "import numpy as np\n",
    "import pandas as pd\n",
    "import matplotlib.pyplot as plt\n",
    "import seaborn as sns"
   ]
  },
  {
   "cell_type": "code",
   "execution_count": 2,
   "metadata": {},
   "outputs": [
    {
     "data": {
      "text/plain": [
       "(21344, 113)"
      ]
     },
     "execution_count": 2,
     "metadata": {},
     "output_type": "execute_result"
    }
   ],
   "source": [
    "# Read data\n",
    "df = pd.read_csv('member_sample.csv')\n",
    "#df = df[~df['Member Key'].isnull()].set_index('Member Key')\n",
    "df.shape"
   ]
  },
  {
   "cell_type": "code",
   "execution_count": 3,
   "metadata": {},
   "outputs": [
    {
     "data": {
      "text/plain": [
       "1        20\n",
       "0        16\n",
       "7347     16\n",
       "9334      8\n",
       "4669      6\n",
       "5463      3\n",
       "7400      3\n",
       "13167     3\n",
       "12562     2\n",
       "7348      2\n",
       "9531      2\n",
       "7491      2\n",
       "7391      2\n",
       "15961     1\n",
       "21336     1\n",
       "9715      1\n",
       "20484     1\n",
       "7433      1\n",
       "11153     1\n",
       "9955      1\n",
       "36        1\n",
       "7602      1\n",
       "20520     1\n",
       "3250      1\n",
       "17652     1\n",
       "7394      1\n",
       "20612     1\n",
       "10423     1\n",
       "9401      1\n",
       "7975      1\n",
       "7483      1\n",
       "12561     1\n",
       "21344     1\n",
       "7359      1\n",
       "20703     1\n",
       "9027      1\n",
       "7367      1\n",
       "8163      1\n",
       "5453      1\n",
       "20956     1\n",
       "20849     1\n",
       "dtype: int64"
      ]
     },
     "execution_count": 3,
     "metadata": {},
     "output_type": "execute_result"
    }
   ],
   "source": [
    "df.isnull().sum().value_counts()"
   ]
  },
  {
   "cell_type": "markdown",
   "metadata": {},
   "source": [
    "## Data Preprocessing\n",
    "\n",
    "### Column Selection\n",
    "#### Identify Target Variables\n",
    "- Products: \n",
    "    1. FSV CMSI\n",
    "    2. FSV Credit Card\n",
    "    3. FSV Deposit Program\n",
    "    4. FSV Home Equity\n",
    "    5. FSV ID Theft\n",
    "    6. FSV Mortgage\n",
    "    7. INS Client\n",
    "    8. TRV Globalware\n",
    "    9. New Mover\n",
    "   \n",
    "   \n",
    "- Cost: Total Cost (Roadside data)\n",
    "\n",
    "#### Select Key Columns\n",
    "The rules of selecting columns\n",
    "1. Use the granular column reasonable number of unique values when available (Ex: ZIP instead of state or ZIP9)\n",
    "2. Use the more complete column within columns providing same information (Ex: gender instead of right_gender)\n",
    "3. Use only one column within a group of correlated columns (Ex: Use tenure and drop Join AAA Date)information at household level.\n",
    "4. Drop columns that satisfy the following criteria:\n",
    "    - Have the same value on all or the majority of data (ex: Member Flag, Language)\n",
    "    - Contain high missing values (ex: Reason Joined)\n",
    "    - Should not be used for decision making (ex: Race)\n",
    "    - Only have partial information (ex: Months from Join to Cancel is only for cancelled members)\n",
    "    - Not informative (ex: Address Change Date)\n",
    "    - Can't be aggregated to household level after data exploration (Ex: Education, Occupation, Vehicle)\n",
    "    - Others (ex: Individual keys)\n",
    "5. Keep only total cost from roadside data as the rest columns could not be aggregated"
   ]
  },
  {
   "cell_type": "code",
   "execution_count": 4,
   "metadata": {},
   "outputs": [],
   "source": [
    "product_list = ['FSV CMSI Flag', 'FSV Credit Card Flag', 'FSV Deposit Program Flag', \n",
    "                'FSV Home Equity Flag', 'FSV ID Theft Flag', 'FSV Mortgage Flag',\n",
    "                'INS Client Flag', 'TRV Globalware Flag', 'New Mover Flag']\n",
    "\n",
    "cost = ['Total Cost']\n",
    "\n",
    "selected_cols = ['Member Key', 'Household Key', 'ZIP', 'Number of Children', \n",
    "                 'Length Of Residence', 'Mail Responder', 'Home Owner', 'Income',  \n",
    "                 'Dwelling Type', 'Credit Ranges', 'Do Not Direct Mail Solicit', \n",
    "                 'Email Available', 'ERS ENT Count Year 1', 'ERS ENT Count Year 2', \n",
    "                 'ERS ENT Count Year 3', 'ERS Member Cost Year 1', 'ERS Member Cost Year 2', \n",
    "                 'ERS Member Cost Year 3', 'Member Status', 'Member Tenure Years', 'Member Type', \n",
    "                 'Mosaic Household', 'Mosaic Global Household', 'kcl_B_IND_MosaicsGrouping']"
   ]
  },
  {
   "cell_type": "markdown",
   "metadata": {},
   "source": [
    "### Individual Level\n",
    "#### Aggregate Cost by Year\n",
    "Member data is duplicated for the same individual with multiple records of roadside data. To avoid duplication, aggregate roadside data (cost) to individual level by Member Key, the unique key for member data."
   ]
  },
  {
   "cell_type": "code",
   "execution_count": 7,
   "metadata": {},
   "outputs": [
    {
     "data": {
      "text/plain": [
       "array([   0, 2017, 2016, 2015, 2019, 2014, 2018], dtype=int64)"
      ]
     },
     "execution_count": 7,
     "metadata": {},
     "output_type": "execute_result"
    }
   ],
   "source": [
    "df['Cost Year'] = pd.DatetimeIndex(pd.to_datetime(df['SC Date'], format=\"%Y/%m/%d %H:%M\")\n",
    "                                  ).year.fillna('0').astype('int64')\n",
    "df['Cost Year'].unique()"
   ]
  },
  {
   "cell_type": "code",
   "execution_count": 8,
   "metadata": {},
   "outputs": [
    {
     "data": {
      "text/plain": [
       "0       7347\n",
       "2015    3851\n",
       "2016    3551\n",
       "2014    2242\n",
       "2019    2151\n",
       "2017    1160\n",
       "2018    1042\n",
       "Name: Cost Year, dtype: int64"
      ]
     },
     "execution_count": 8,
     "metadata": {},
     "output_type": "execute_result"
    }
   ],
   "source": [
    "df['Cost Year'].value_counts()"
   ]
  },
  {
   "cell_type": "code",
   "execution_count": 9,
   "metadata": {},
   "outputs": [
    {
     "data": {
      "image/png": "[encoded data removed]",
      "text/plain": [
       "<Figure size 432x288 with 1 Axes>"
      ]
     },
     "metadata": {},
     "output_type": "display_data"
    }
   ],
   "source": [
    "import matplotlib.pyplot as plt\n",
    "\n",
    "# Data to plot\n",
    "labels = 0,2014, 2015,2016,2017,2018,2019\n",
    "sizes = [7346,2242,3851,3551,1160,1042,2151]\n",
    "colors = ['gold', 'yellowgreen', 'lightcoral','#ff9999','#66b3ff','#99ff99','#ffcc99']\n",
    "explode = (0.2, 0.0, 0.0, 0.0, 0.0, 0.0, 0.0)  # explode 1st slice\n",
    "\n",
    "# Plot\n",
    "plt.pie(sizes, explode=explode, labels=labels, colors=colors,\n",
    "autopct='%1.1f%%', shadow=True, startangle=200)\n",
    "\n",
    "plt.axis('equal')\n",
    "plt.show()"
   ]
  },
  {
   "cell_type": "code",
   "execution_count": 10,
   "metadata": {},
   "outputs": [
    {
     "ename": "KeyError",
     "evalue": "'Member Key'",
     "output_type": "error",
     "traceback": [
      "\u001b[1;31m--------------------------------------------------------------------\u001b[0m",
      "\u001b[1;31mKeyError\u001b[0m                           Traceback (most recent call last)",
      "\u001b[1;32m<ipython-input-10-dc7334ce199d>\u001b[0m in \u001b[0;36m<module>\u001b[1;34m\u001b[0m\n\u001b[0;32m      1\u001b[0m df_cost = df[['Total Cost', 'Cost Year']\n\u001b[1;32m----> 2\u001b[1;33m              \u001b[1;33m]\u001b[0m\u001b[1;33m.\u001b[0m\u001b[0mreset_index\u001b[0m\u001b[1;33m(\u001b[0m\u001b[1;33m)\u001b[0m\u001b[1;33m.\u001b[0m\u001b[0mgroupby\u001b[0m\u001b[1;33m(\u001b[0m\u001b[1;33m[\u001b[0m\u001b[1;34m'Member Key'\u001b[0m\u001b[1;33m,\u001b[0m \u001b[1;34m'Cost Year'\u001b[0m\u001b[1;33m]\u001b[0m\u001b[1;33m\u001b[0m\u001b[1;33m\u001b[0m\u001b[0m\n\u001b[0m\u001b[0;32m      3\u001b[0m                                     \u001b[1;33m)\u001b[0m\u001b[1;33m.\u001b[0m\u001b[0msum\u001b[0m\u001b[1;33m(\u001b[0m\u001b[1;33m)\u001b[0m\u001b[1;33m.\u001b[0m\u001b[0mreset_index\u001b[0m\u001b[1;33m(\u001b[0m\u001b[1;33m)\u001b[0m\u001b[1;33m.\u001b[0m\u001b[0mpivot\u001b[0m\u001b[1;33m(\u001b[0m\u001b[0mindex\u001b[0m\u001b[1;33m=\u001b[0m\u001b[1;34m'Member Key'\u001b[0m\u001b[1;33m,\u001b[0m\u001b[1;33m\u001b[0m\u001b[1;33m\u001b[0m\u001b[0m\n\u001b[0;32m      4\u001b[0m                                                                 \u001b[0mcolumns\u001b[0m\u001b[1;33m=\u001b[0m\u001b[1;34m'Cost Year'\u001b[0m\u001b[1;33m,\u001b[0m\u001b[1;33m\u001b[0m\u001b[1;33m\u001b[0m\u001b[0m\n\u001b[0;32m      5\u001b[0m                                                                 values='Total Cost').fillna(0)\n",
      "\u001b[1;32m~\\Anaconda3\\lib\\site-packages\\pandas\\core\\generic.py\u001b[0m in \u001b[0;36mgroupby\u001b[1;34m(self, by, axis, level, as_index, sort, group_keys, squeeze, observed, **kwargs)\u001b[0m\n\u001b[0;32m   7630\u001b[0m         return groupby(self, by=by, axis=axis, level=level, as_index=as_index,\n\u001b[0;32m   7631\u001b[0m                        \u001b[0msort\u001b[0m\u001b[1;33m=\u001b[0m\u001b[0msort\u001b[0m\u001b[1;33m,\u001b[0m \u001b[0mgroup_keys\u001b[0m\u001b[1;33m=\u001b[0m\u001b[0mgroup_keys\u001b[0m\u001b[1;33m,\u001b[0m \u001b[0msqueeze\u001b[0m\u001b[1;33m=\u001b[0m\u001b[0msqueeze\u001b[0m\u001b[1;33m,\u001b[0m\u001b[1;33m\u001b[0m\u001b[1;33m\u001b[0m\u001b[0m\n\u001b[1;32m-> 7632\u001b[1;33m                        observed=observed, **kwargs)\n\u001b[0m\u001b[0;32m   7633\u001b[0m \u001b[1;33m\u001b[0m\u001b[0m\n\u001b[0;32m   7634\u001b[0m     def asfreq(self, freq, method=None, how=None, normalize=False,\n",
      "\u001b[1;32m~\\Anaconda3\\lib\\site-packages\\pandas\\core\\groupby\\groupby.py\u001b[0m in \u001b[0;36mgroupby\u001b[1;34m(obj, by, **kwds)\u001b[0m\n\u001b[0;32m   2108\u001b[0m         \u001b[1;32mraise\u001b[0m \u001b[0mTypeError\u001b[0m\u001b[1;33m(\u001b[0m\u001b[1;34m'invalid type: {}'\u001b[0m\u001b[1;33m.\u001b[0m\u001b[0mformat\u001b[0m\u001b[1;33m(\u001b[0m\u001b[0mobj\u001b[0m\u001b[1;33m)\u001b[0m\u001b[1;33m)\u001b[0m\u001b[1;33m\u001b[0m\u001b[1;33m\u001b[0m\u001b[0m\n\u001b[0;32m   2109\u001b[0m \u001b[1;33m\u001b[0m\u001b[0m\n\u001b[1;32m-> 2110\u001b[1;33m     \u001b[1;32mreturn\u001b[0m \u001b[0mklass\u001b[0m\u001b[1;33m(\u001b[0m\u001b[0mobj\u001b[0m\u001b[1;33m,\u001b[0m \u001b[0mby\u001b[0m\u001b[1;33m,\u001b[0m \u001b[1;33m**\u001b[0m\u001b[0mkwds\u001b[0m\u001b[1;33m)\u001b[0m\u001b[1;33m\u001b[0m\u001b[1;33m\u001b[0m\u001b[0m\n\u001b[0m",
      "\u001b[1;32m~\\Anaconda3\\lib\\site-packages\\pandas\\core\\groupby\\groupby.py\u001b[0m in \u001b[0;36m__init__\u001b[1;34m(self, obj, keys, axis, level, grouper, exclusions, selection, as_index, sort, group_keys, squeeze, observed, **kwargs)\u001b[0m\n\u001b[0;32m    358\u001b[0m                                                     \u001b[0msort\u001b[0m\u001b[1;33m=\u001b[0m\u001b[0msort\u001b[0m\u001b[1;33m,\u001b[0m\u001b[1;33m\u001b[0m\u001b[1;33m\u001b[0m\u001b[0m\n\u001b[0;32m    359\u001b[0m                                                     \u001b[0mobserved\u001b[0m\u001b[1;33m=\u001b[0m\u001b[0mobserved\u001b[0m\u001b[1;33m,\u001b[0m\u001b[1;33m\u001b[0m\u001b[1;33m\u001b[0m\u001b[0m\n\u001b[1;32m--> 360\u001b[1;33m                                                     mutated=self.mutated)\n\u001b[0m\u001b[0;32m    361\u001b[0m \u001b[1;33m\u001b[0m\u001b[0m\n\u001b[0;32m    362\u001b[0m         \u001b[0mself\u001b[0m\u001b[1;33m.\u001b[0m\u001b[0mobj\u001b[0m \u001b[1;33m=\u001b[0m \u001b[0mobj\u001b[0m\u001b[1;33m\u001b[0m\u001b[1;33m\u001b[0m\u001b[0m\n",
      "\u001b[1;32m~\\Anaconda3\\lib\\site-packages\\pandas\\core\\groupby\\grouper.py\u001b[0m in \u001b[0;36m_get_grouper\u001b[1;34m(obj, key, axis, level, sort, observed, mutated, validate)\u001b[0m\n\u001b[0;32m    576\u001b[0m                 \u001b[0min_axis\u001b[0m\u001b[1;33m,\u001b[0m \u001b[0mname\u001b[0m\u001b[1;33m,\u001b[0m \u001b[0mlevel\u001b[0m\u001b[1;33m,\u001b[0m \u001b[0mgpr\u001b[0m \u001b[1;33m=\u001b[0m \u001b[1;32mFalse\u001b[0m\u001b[1;33m,\u001b[0m \u001b[1;32mNone\u001b[0m\u001b[1;33m,\u001b[0m \u001b[0mgpr\u001b[0m\u001b[1;33m,\u001b[0m \u001b[1;32mNone\u001b[0m\u001b[1;33m\u001b[0m\u001b[1;33m\u001b[0m\u001b[0m\n\u001b[0;32m    577\u001b[0m             \u001b[1;32melse\u001b[0m\u001b[1;33m:\u001b[0m\u001b[1;33m\u001b[0m\u001b[1;33m\u001b[0m\u001b[0m\n\u001b[1;32m--> 578\u001b[1;33m                 \u001b[1;32mraise\u001b[0m \u001b[0mKeyError\u001b[0m\u001b[1;33m(\u001b[0m\u001b[0mgpr\u001b[0m\u001b[1;33m)\u001b[0m\u001b[1;33m\u001b[0m\u001b[1;33m\u001b[0m\u001b[0m\n\u001b[0m\u001b[0;32m    579\u001b[0m         \u001b[1;32melif\u001b[0m \u001b[0misinstance\u001b[0m\u001b[1;33m(\u001b[0m\u001b[0mgpr\u001b[0m\u001b[1;33m,\u001b[0m \u001b[0mGrouper\u001b[0m\u001b[1;33m)\u001b[0m \u001b[1;32mand\u001b[0m \u001b[0mgpr\u001b[0m\u001b[1;33m.\u001b[0m\u001b[0mkey\u001b[0m \u001b[1;32mis\u001b[0m \u001b[1;32mnot\u001b[0m \u001b[1;32mNone\u001b[0m\u001b[1;33m:\u001b[0m\u001b[1;33m\u001b[0m\u001b[1;33m\u001b[0m\u001b[0m\n\u001b[0;32m    580\u001b[0m             \u001b[1;31m# Add key to exclusions\u001b[0m\u001b[1;33m\u001b[0m\u001b[1;33m\u001b[0m\u001b[1;33m\u001b[0m\u001b[0m\n",
      "\u001b[1;31mKeyError\u001b[0m: 'Member Key'"
     ]
    }
   ],
   "source": [
    "df_cost = df[['Total Cost', 'Cost Year']\n",
    "             ].reset_index().groupby(['Member Key', 'Cost Year']\n",
    "                                    ).sum().reset_index().pivot(index='Member Key',\n",
    "                                                                columns='Cost Year',\n",
    "                                                                values='Total Cost').fillna(0)\n",
    "df_cost['Total Cost'] = df_cost.sum(axis=1)\n",
    "df_cost = df_cost.iloc[:,1:]\n",
    "df_cost.columns = ['Cost 2014', 'Cost 2015', 'Cost 2016', \n",
    "                   'Cost 2017', 'Cost 2018', 'Cost 2019', 'Total Cost']\n",
    "df_cost.head()"
   ]
  },
  {
   "cell_type": "code",
   "execution_count": 11,
   "metadata": {},
   "outputs": [
    {
     "ename": "NameError",
     "evalue": "name 'df_cost' is not defined",
     "output_type": "error",
     "traceback": [
      "\u001b[1;31m--------------------------------------------------------------------\u001b[0m",
      "\u001b[1;31mNameError\u001b[0m                          Traceback (most recent call last)",
      "\u001b[1;32m<ipython-input-11-11756800d33b>\u001b[0m in \u001b[0;36m<module>\u001b[1;34m\u001b[0m\n\u001b[1;32m----> 1\u001b[1;33m \u001b[0mdf_cost\u001b[0m\u001b[1;33m.\u001b[0m\u001b[0mshape\u001b[0m\u001b[1;33m\u001b[0m\u001b[1;33m\u001b[0m\u001b[0m\n\u001b[0m",
      "\u001b[1;31mNameError\u001b[0m: name 'df_cost' is not defined"
     ]
    }
   ],
   "source": [
    "df_cost.shape"
   ]
  },
  {
   "cell_type": "markdown",
   "metadata": {},
   "source": [
    "#### Remove Duplication"
   ]
  },
  {
   "cell_type": "code",
   "execution_count": null,
   "metadata": {},
   "outputs": [],
   "source": [
    "df_member = df.loc[:, product_list + selected_cols\n",
    "                  ].drop_duplicates().join(df_cost)\n",
    "df_member.shape"
   ]
  },
  {
   "cell_type": "code",
   "execution_count": null,
   "metadata": {},
   "outputs": [],
   "source": [
    "df_member.head()"
   ]
  },
  {
   "cell_type": "markdown",
   "metadata": {},
   "source": [
    "#### Remove Cancelled members"
   ]
  },
  {
   "cell_type": "code",
   "execution_count": null,
   "metadata": {},
   "outputs": [],
   "source": [
    "df_member['Member Status'].value_counts()"
   ]
  },
  {
   "cell_type": "code",
   "execution_count": null,
   "metadata": {},
   "outputs": [],
   "source": [
    "df_member = df_member[df_member['Member Status'] != 'CANCELLED']"
   ]
  },
  {
   "cell_type": "markdown",
   "metadata": {},
   "source": [
    "#### Transfer Data Type\n",
    "- Transfer to 1 and 0: Products, Mail Responder\n",
    "- Transfer to numeric than use mean: Income, Credit Ranges, Number of Children\n",
    "- Create new columns: Member Type"
   ]
  },
  {
   "cell_type": "markdown",
   "metadata": {},
   "source": [
    "#### 3.1 Convert Male and Female to 0 and 1"
   ]
  },
  {
   "cell_type": "code",
   "execution_count": null,
   "metadata": {},
   "outputs": [],
   "source": [
    "df_children = df_member[['Number of Children']].replace({'No children': 0,\n",
    "                                                         'One Child': 1,\n",
    "                                                         'Two Children': 2,\n",
    "                                                         'Three Children': 3,\n",
    "                                                         'Four Children': 4,\n",
    "                                                         'Five Children': 5,\n",
    "                                                         'Six Children': 6})\n",
    "df_children.head()"
   ]
  },
  {
   "cell_type": "code",
   "execution_count": null,
   "metadata": {},
   "outputs": [],
   "source": [
    "df_income = df_member[['Income']].replace({'Under 10K': 5000,\n",
    "                                           '10-19,999': 15000,\n",
    "                                           '20-29,999': 25000,\n",
    "                                           '30-39,999': 35000,\n",
    "                                           '40-49,999': 45000, \n",
    "                                           '50-59,999': 55000,\n",
    "                                           '60-69,999': 65000,\n",
    "                                           '70-79,999': 75000,\n",
    "                                           '80-89,999': 85000,\n",
    "                                           '90-99,999': 95000,\n",
    "                                           '100-149,999': 125000,\n",
    "                                           '150 - 174,999': 162500, \n",
    "                                           '175 - 199,999': 187500,\n",
    "                                           '200 - 249,999': 225000,\n",
    "                                           '250K+': 250000})\n",
    "df_income.head()"
   ]
  },
  {
   "cell_type": "code",
   "execution_count": null,
   "metadata": {},
   "outputs": [],
   "source": [
    "df_credit = df_member[['Credit Ranges']].replace({'499 & Less': 250,\n",
    "                                                  '500-549': 525,\n",
    "                                                  '550-599': 575,\n",
    "                                                  '600-649': 625,\n",
    "                                                  '650-699': 675,\n",
    "                                                  '700-749': 725,\n",
    "                                                  '750-799': 775,\n",
    "                                                  '800+': 800,\n",
    "                                                  'Unknown': np.nan\n",
    "                                                 })\n",
    "df_credit.head()"
   ]
  },
  {
   "cell_type": "code",
   "execution_count": null,
   "metadata": {},
   "outputs": [],
   "source": [
    "# Occup_unknown = df_member['Occupation Code'] == 'Unknown'\n",
    "# df_occup = pd.DataFrame({'Occupation': pd.concat([df_member['Occupation Code'][~Occup_unknown],\n",
    "#                                                   df_member['Occupation Group'][Occup_unknown]])})\n",
    "# df_occup.head()"
   ]
  },
  {
   "cell_type": "code",
   "execution_count": null,
   "metadata": {},
   "outputs": [],
   "source": [
    "df_member[product_list + ['Mail Responder', 'Number of Children',\n",
    "                          'Income', 'Credit Ranges']].tail()"
   ]
  },
  {
   "cell_type": "code",
   "execution_count": null,
   "metadata": {
    "scrolled": true
   },
   "outputs": [],
   "source": [
    "df_transform = df_member.drop(product_list + \n",
    "                              ['Mail Responder', 'Number of Children', \n",
    "                               'Income', 'Credit Ranges'],\n",
    "                              axis = 1\n",
    "                             ).join(df_bool).join(df_children).join(df_income).join(df_credit)\n",
    "df_transform.tail()"
   ]
  },
  {
   "cell_type": "code",
   "execution_count": null,
   "metadata": {},
   "outputs": [],
   "source": [
    "df_transform = df_transform.assign(PrimaryMember = \n",
    "                                       [1 if x == 'Primary' else 0 \n",
    "                                            for x in df_transform['Member Type']],\n",
    "                                   AssociateMember = \n",
    "                                       [1 if x == 'Associate' else 0 \n",
    "                                            for x in df_transform['Member Type']])\n",
    "df_transform[['Member Type', 'PrimaryMember', 'AssociateMember']].tail()"
   ]
  },
  {
   "cell_type": "code",
   "execution_count": null,
   "metadata": {},
   "outputs": [],
   "source": [
    "df_transform = df_transform.drop(['Member Status', 'Member Type'], axis = 1)"
   ]
  },
  {
   "cell_type": "code",
   "execution_count": null,
   "metadata": {},
   "outputs": [],
   "source": [
    "df_transform.columns"
   ]
  },
  {
   "cell_type": "markdown",
   "metadata": {},
   "source": [
    "### Household Level\n",
    "#### Non-Numeric Columns\n",
    "To aggregate non-numeric columns, we need to check if the non-numeric values within a household are too diverse. If the variables are consistent within the majority of household, we can use mode to get the variable that is representative to the household without misinterpreting the true information."
   ]
  },
  {
   "cell_type": "code",
   "execution_count": null,
   "metadata": {},
   "outputs": [],
   "source": [
    "# Number of households with more than one values in each non-numeric columns\n",
    "pd.DataFrame(df_transform.loc[:, [df_transform[x].dtype == 'O' for x in df_transform]\n",
    "                             ].join(df_transform['Household Key']\n",
    "                                   ).groupby(['Household Key']).nunique() > 1).sum()"
   ]
  },
  {
   "cell_type": "markdown",
   "metadata": {},
   "source": [
    "From the result we can confidently aggregate Home Owner, Dwelling Type and Mosaic columns by taking mode, because only a handful of households have more than two values in these columns."
   ]
  },
  {
   "cell_type": "code",
   "execution_count": null,
   "metadata": {},
   "outputs": [],
   "source": [
    "categorical_cols = ['ZIP', 'Home Owner', 'Dwelling Type', 'Mosaic Household', \n",
    "                    'Mosaic Global Household', 'kcl_B_IND_MosaicsGrouping']\n",
    "df_household_cat = df_transform.fillna('Not Set'\n",
    "                                       ).groupby(['Household Key']\n",
    "                                                )[categorical_cols].agg(lambda x: \n",
    "                                                                        x.value_counts().index[0])\n",
    "df_household_cat['ZIP'] = df_household_cat['ZIP'].astype('category')\n",
    "df_household_cat.head()"
   ]
  },
  {
   "cell_type": "markdown",
   "metadata": {},
   "source": [
    "#### Numeric Columns"
   ]
  },
  {
   "cell_type": "code",
   "execution_count": null,
   "metadata": {
    "scrolled": true
   },
   "outputs": [],
   "source": [
    "df_household_num = df_transform.groupby(['Household Key']\n",
    "                                   ).agg({'Member Key': 'count',\n",
    "                                          'Length Of Residence': 'mean',\n",
    "                                          'Do Not Direct Mail Solicit': 'mean',\n",
    "                                          'Email Available': 'mean', \n",
    "                                          'ERS ENT Count Year 1': ['sum', 'mean'],\n",
    "                                          'ERS ENT Count Year 2': ['sum', 'mean'],\n",
    "                                          'ERS ENT Count Year 3': ['sum', 'mean'],\n",
    "                                          'ERS Member Cost Year 1': ['sum', 'mean'],\n",
    "                                          'ERS Member Cost Year 2': ['sum', 'mean'],\n",
    "                                          'ERS Member Cost Year 3': ['sum', 'mean'],\n",
    "                                          'Member Tenure Years': 'mean',\n",
    "                                          'Cost 2014': 'sum',\n",
    "                                          'Cost 2015': 'sum',\n",
    "                                          'Cost 2016': 'sum',\n",
    "                                          'Cost 2017': 'sum',\n",
    "                                          'Cost 2018': 'sum',\n",
    "                                          'Cost 2019': 'sum',\n",
    "                                          'Total Cost': 'sum',\n",
    "                                          'Mail Responder': 'mean',\n",
    "                                          'Number of Children': 'mean',\n",
    "                                          'Income': 'mean',\n",
    "                                          'Credit Ranges': 'mean',\n",
    "                                          'AssociateMember': 'sum',\n",
    "                                          'PrimaryMember': 'sum'\n",
    "                                         })\n",
    "df_household_num.columns = [' '.join(col).strip() for col in df_household_num.columns.values]\n",
    "df_household_num.head()"
   ]
  },
  {
   "cell_type": "markdown",
   "metadata": {},
   "source": [
    "#### Products"
   ]
  },
  {
   "cell_type": "code",
   "execution_count": null,
   "metadata": {},
   "outputs": [],
   "source": [
    "df_household_product = df_transform.groupby(['Household Key']\n",
    "                                           )[product_list].agg(max)\n",
    "df_household_product.head()"
   ]
  },
  {
   "cell_type": "code",
   "execution_count": null,
   "metadata": {},
   "outputs": [],
   "source": [
    "df_household = df_household_cat.join(df_household_num).join(df_household_product)\n",
    "df_household.head()"
   ]
  },
  {
   "cell_type": "code",
   "execution_count": null,
   "metadata": {},
   "outputs": [],
   "source": [
    "df_household['Dwelling Type'].value_counts()"
   ]
  },
  {
   "cell_type": "markdown",
   "metadata": {},
   "source": [
    "#### Imputation of Missing Values\n",
    "The missing values in categorical columns have been filled with 'Not Set'. Now the missing values in numerical columns will be filled with median."
   ]
  },
  {
   "cell_type": "code",
   "execution_count": null,
   "metadata": {},
   "outputs": [],
   "source": [
    "df_household.info()"
   ]
  },
  {
   "cell_type": "code",
   "execution_count": null,
   "metadata": {},
   "outputs": [],
   "source": [
    "# Observation before filling NA\n",
    "sns.pairplot(df_household[['Income mean', 'Mail Responder mean', 'Length Of Residence mean',\n",
    "                           'Credit Ranges mean', 'Number of Children mean', 'Total Cost sum']].fillna(0))\n",
    "plt.show()"
   ]
  },
  {
   "cell_type": "code",
   "execution_count": null,
   "metadata": {},
   "outputs": [],
   "source": [
    "from sklearn.impute import SimpleImputer"
   ]
  },
  {
   "cell_type": "code",
   "execution_count": null,
   "metadata": {},
   "outputs": [],
   "source": [
    "numeric_features = df_household.select_dtypes(include=['float64', 'int64']).columns\n",
    "imp_med = SimpleImputer(missing_values=np.nan, strategy='median')\n",
    "df_num = pd.DataFrame(imp_med.fit_transform(df_household[numeric_features]))\n",
    "df_num.columns = numeric_features\n",
    "df_num.index = df_household.index\n",
    "df_num.head()"
   ]
  },
  {
   "cell_type": "markdown",
   "metadata": {},
   "source": [
    "#### One Hot Encoding"
   ]
  },
  {
   "cell_type": "code",
   "execution_count": null,
   "metadata": {},
   "outputs": [],
   "source": [
    "from sklearn.preprocessing import OneHotEncoder"
   ]
  },
  {
   "cell_type": "code",
   "execution_count": null,
   "metadata": {},
   "outputs": [],
   "source": [
    "categorical_features = df_household.select_dtypes(include=['category', 'object']).columns\n",
    "enc = OneHotEncoder(handle_unknown='ignore')\n",
    "enc.fit(df_household[categorical_features])\n",
    "df_cat = pd.DataFrame(enc.transform(df_household[categorical_features]).toarray())\n",
    "df_cat.columns = enc.get_feature_names()\n",
    "df_cat.index = df_household.index\n",
    "df_cat.head()"
   ]
  },
  {
   "cell_type": "markdown",
   "metadata": {},
   "source": [
    "### Final Dataset"
   ]
  },
  {
   "cell_type": "code",
   "execution_count": null,
   "metadata": {},
   "outputs": [],
   "source": [
    "X = df_num.join(df_cat)\n",
    "X.info()"
   ]
  },
  {
   "cell_type": "code",
   "execution_count": null,
   "metadata": {},
   "outputs": [],
   "source": [
    "X.head()"
   ]
  },
  {
   "cell_type": "code",
   "execution_count": null,
   "metadata": {},
   "outputs": [],
   "source": [
    "# Save data\n",
    "X.to_csv('processed_data.csv')"
   ]
  },
  {
   "cell_type": "code",
   "execution_count": null,
   "metadata": {},
   "outputs": [],
   "source": []
  }
 ],
 "metadata": {
  "kernelspec": {
   "display_name": "Python 3",
   "language": "python",
   "name": "python3"
  },
  "language_info": {
   "codemirror_mode": {
    "name": "ipython",
    "version": 3
   },
   "file_extension": ".py",
   "mimetype": "text/x-python",
   "name": "python",
   "nbconvert_exporter": "python",
   "pygments_lexer": "ipython3",
   "version": "3.8.3"
  }
 },
 "nbformat": 4,
 "nbformat_minor": 2
}
