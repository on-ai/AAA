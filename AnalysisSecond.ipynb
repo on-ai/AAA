{
 "cells": [
  {
   "cell_type": "code",
   "execution_count": null,
   "metadata": {},
   "outputs": [],
   "source": [
    "#print (\"JacobSession02\")\n",
    "%matplotlib inline\n",
    "import matplotlib.pyplot as plt\n",
    "import numpy as np\n",
    "import pandas as pd\n",
    "\n",
    "df = pd.read_csv ('member_sample.csv', index_col = 0)"
   ]
  },
  {
   "cell_type": "code",
   "execution_count": null,
   "metadata": {},
   "outputs": [],
   "source": [
    "df.head()\n"
   ]
  },
  {
   "cell_type": "code",
   "execution_count": null,
   "metadata": {},
   "outputs": [],
   "source": [
    "df['City'].value_counts()[:3].sum()\n"
   ]
  },
  {
   "cell_type": "code",
   "execution_count": null,
   "metadata": {},
   "outputs": [],
   "source": [
    "df['State - Grouped'].value_counts()"
   ]
  },
  {
   "cell_type": "code",
   "execution_count": null,
   "metadata": {},
   "outputs": [],
   "source": [
    "df['FSV Mortgage Flag'].value_counts()"
   ]
  },
  {
   "cell_type": "code",
   "execution_count": null,
   "metadata": {},
   "outputs": [],
   "source": [
    "def y_n_to_binary(x):\n",
    "    if x == 'Y':\n",
    "        return 1\n",
    "    else:\n",
    "        return 0"
   ]
  },
  {
   "cell_type": "code",
   "execution_count": null,
   "metadata": {},
   "outputs": [],
   "source": [
    "df['FSV Mortgage Flag'] = df['FSV Mortgage Flag'].apply(y_n_to_binary)\n",
    "df['FSV Mortgage Flag']"
   ]
  },
  {
   "cell_type": "code",
   "execution_count": null,
   "metadata": {},
   "outputs": [],
   "source": [
    "[i for i in df.columns if i.startswith('Children')]\n",
    "df['Children'].value_counts()\n",
    "df.groupby('Children')['Number of Children'].describe()"
   ]
  },
  {
   "cell_type": "code",
   "execution_count": null,
   "metadata": {},
   "outputs": [],
   "source": [
    "vals = df['Number of Children'].value_counts().index\n",
    "nums = list(range(7))\n",
    "nums"
   ]
  },
  {
   "cell_type": "code",
   "execution_count": null,
   "metadata": {},
   "outputs": [],
   "source": [
    "df['Number of Children'] = df['Number of Children'].map({v:n for v, n in zip (vals, nums)})\n",
    "df['Number of Children']"
   ]
  },
  {
   "cell_type": "code",
   "execution_count": null,
   "metadata": {},
   "outputs": [],
   "source": [
    "df.loc[(df['Number of Children'] == 0) & (df['Children'] == 'Yes]')].shape"
   ]
  },
  {
   "cell_type": "code",
   "execution_count": null,
   "metadata": {},
   "outputs": [],
   "source": [
    "child_problems = df.loc[(df['Number of Children'] == 0) & (df['Children'] == 'Yes]')]\n",
    "#child_problems\n",
    "\n"
   ]
  },
  {
   "cell_type": "code",
   "execution_count": null,
   "metadata": {},
   "outputs": [],
   "source": [
    "#child_problems.groupby ('Household Key')[['Number of Children', 'Age']].mean()\n",
    "# No Age column\n",
    "for col in df.columns: print (col)"
   ]
  },
  {
   "cell_type": "code",
   "execution_count": null,
   "metadata": {},
   "outputs": [],
   "source": [
    "df['Birth Date MMDDYYYY'] = pd.to_datetime(df['Birth Date MMDDYYYY'])\n",
    "df['Birth Date MMDDYYYY'].dt.year\n"
   ]
  },
  {
   "cell_type": "code",
   "execution_count": null,
   "metadata": {},
   "outputs": [],
   "source": [
    "import datetime\n",
    "now = datetime.datetime.now().year\n",
    "df['age_built'] = now -df['Birth Date MMDDYYYY'].dt.year\n",
    "df['age_built'].hist()"
   ]
  },
  {
   "cell_type": "code",
   "execution_count": null,
   "metadata": {},
   "outputs": [],
   "source": [
    "df['age_built'].plot (kind = 'box')"
   ]
  },
  {
   "cell_type": "code",
   "execution_count": null,
   "metadata": {},
   "outputs": [],
   "source": [
    "df.groupby('age_built')['Total Cost'].mean().plot (kind = 'bar')"
   ]
  },
  {
   "cell_type": "code",
   "execution_count": null,
   "metadata": {},
   "outputs": [],
   "source": [
    "df.groupby('age_built')['Total Cost'].mean().plot (kind = 'hist')"
   ]
  },
  {
   "cell_type": "code",
   "execution_count": null,
   "metadata": {},
   "outputs": [],
   "source": [
    "df['age_built'].describe ()"
   ]
  },
  {
   "cell_type": "code",
   "execution_count": null,
   "metadata": {},
   "outputs": [],
   "source": [
    "household_grouped = df.groupby('Household Key')[['age_built', 'Total Cost']].mean()\n",
    "household_grouped.groupby('age_built').mean().hist()"
   ]
  },
  {
   "cell_type": "code",
   "execution_count": null,
   "metadata": {},
   "outputs": [],
   "source": [
    "# Don't engineer too many features for clustering, otherwise it is hard to make sense of"
   ]
  },
  {
   "cell_type": "code",
   "execution_count": null,
   "metadata": {},
   "outputs": [],
   "source": [
    "df.groupby('Household Key').mean()\n",
    "df['Credit Ranges'].value_counts()\n",
    "df.groupby('Credit Ranges')['Total Cost'].mean()\n"
   ]
  },
  {
   "cell_type": "code",
   "execution_count": null,
   "metadata": {},
   "outputs": [],
   "source": [
    "df['kcl_B_IND_MosaicsGrouping'].value_counts()\n"
   ]
  },
  {
   "cell_type": "code",
   "execution_count": null,
   "metadata": {},
   "outputs": [],
   "source": [
    "[i for i in df.columns if i.startswith('FSV')]"
   ]
  },
  {
   "cell_type": "code",
   "execution_count": null,
   "metadata": {},
   "outputs": [],
   "source": [
    "for col in ['FSV CMSI Flag',\n",
    " 'FSV Credit Card Flag',\n",
    " 'FSV Deposit Program Flag',\n",
    " 'FSV Home Equity Flag',\n",
    " 'FSV ID Theft Flag',\n",
    " 'FSV Mortgage Flag',\n",
    " 'INS Client Flag',\n",
    " 'TRV Globalware Flag']:\n",
    " df[col] = df[col].apply(y_n_to_binary)\n",
    " print(df[col])\n"
   ]
  },
  {
   "cell_type": "code",
   "execution_count": null,
   "metadata": {},
   "outputs": [],
   "source": [
    "df_exp = pd.get_dummies(df, columns = ['kcl_B_IND_MosaicsGrouping'])"
   ]
  },
  {
   "cell_type": "code",
   "execution_count": null,
   "metadata": {},
   "outputs": [],
   "source": [
    "[i for i in df_exp.columns if i.startswith ('kcl')]"
   ]
  },
  {
   "cell_type": "code",
   "execution_count": null,
   "metadata": {},
   "outputs": [],
   "source": [
    "household_grouped = df.groupby('Household Key').mean()"
   ]
  },
  {
   "cell_type": "code",
   "execution_count": null,
   "metadata": {},
   "outputs": [],
   "source": [
    "df.groupby('kcl_B_IND_MosaicsGrouping')['age_built'].mean()"
   ]
  },
  {
   "cell_type": "code",
   "execution_count": null,
   "metadata": {},
   "outputs": [],
   "source": [
    "df.groupby('kcl_B_IND_MosaicsGrouping')['Total Cost'].mean()"
   ]
  },
  {
   "cell_type": "code",
   "execution_count": null,
   "metadata": {},
   "outputs": [],
   "source": [
    "member_groups = df.groupby ('Member Type')\n",
    "for group in member_groups: print (group)"
   ]
  },
  {
   "cell_type": "code",
   "execution_count": null,
   "metadata": {},
   "outputs": [],
   "source": [
    "df.loc[df['Member Type'] == 'Primary'].groupby('Household Key')[['age_built', 'Total Cost']].mean().groupby('age_built').mean().hist()"
   ]
  },
  {
   "cell_type": "code",
   "execution_count": null,
   "metadata": {},
   "outputs": [],
   "source": [
    "df_exp = pd.get_dummies(df, columns=['kcl_B_IND_MosaicsGrouping'])\n",
    "df_exp\n",
    "household_grouped = df_exp.groupby('Household Key').mean()\n",
    "household_grouped"
   ]
  },
  {
   "cell_type": "code",
   "execution_count": null,
   "metadata": {},
   "outputs": [],
   "source": [
    "def func_buy_or_not(x):\n",
    "    if x > 0:\n",
    "        return 1\n",
    "    else:\n",
    "        return 0\n"
   ]
  },
  {
   "cell_type": "code",
   "execution_count": null,
   "metadata": {},
   "outputs": [],
   "source": [
    "fsvs = [col for col in household_grouped.columns if col.startswith('FSV') or col.startswith ('INS Client Flag') or col.startswith ('TRV Globalware Flag')]\n",
    "for col in fsvs:\n",
    "    print (col)\n",
    "    household_grouped[col] = household_grouped[col].apply(func_buy_or_not)\n",
    "\n",
    "# household_grouped['FSV Mortgage Flag'] = household_grouped['FSV Mortgage Flag'].apply(buy_or_not)\n",
    "# household_grouped['FSV Mortgage Flag'].value_counts()\n"
   ]
  },
  {
   "cell_type": "code",
   "execution_count": null,
   "metadata": {},
   "outputs": [],
   "source": [
    "household_grouped"
   ]
  },
  {
   "cell_type": "code",
   "execution_count": null,
   "metadata": {},
   "outputs": [],
   "source": [
    "print (fsvs)"
   ]
  },
  {
   "cell_type": "code",
   "execution_count": null,
   "metadata": {},
   "outputs": [],
   "source": [
    "# household_grouped['FSV CMSI Flag'] = household_grouped['FSV CMSI Flag'].apply(buy_or_not)\n",
    "# household_grouped['FSV CMSI Flag'].value_counts()"
   ]
  },
  {
   "cell_type": "code",
   "execution_count": null,
   "metadata": {},
   "outputs": [],
   "source": [
    "household_grouped['INS Client Flag'].value_counts()"
   ]
  },
  {
   "cell_type": "code",
   "execution_count": null,
   "metadata": {},
   "outputs": [],
   "source": [
    "household_grouped [fsvs].describe ()"
   ]
  },
  {
   "cell_type": "code",
   "execution_count": null,
   "metadata": {},
   "outputs": [],
   "source": [
    "from sklearn.linear_model import LogisticRegression\n",
    "from sklearn.neighbors import KNeighborsClassifier\n"
   ]
  },
  {
   "cell_type": "code",
   "execution_count": null,
   "metadata": {},
   "outputs": [],
   "source": [
    "lgr = LogisticRegression()\n",
    "knn = KNeighborsClassifier()\n"
   ]
  },
  {
   "cell_type": "code",
   "execution_count": null,
   "metadata": {},
   "outputs": [],
   "source": [
    "X = household_grouped.drop (fsvs, axis = 1)\n",
    "\n"
   ]
  },
  {
   "cell_type": "code",
   "execution_count": null,
   "metadata": {},
   "outputs": [],
   "source": [
    "X.columns"
   ]
  },
  {
   "cell_type": "code",
   "execution_count": null,
   "metadata": {},
   "outputs": [],
   "source": [
    "sub_df = household_grouped[['kcl_B_IND_MosaicsGrouping_Aspirational Fusion',\n",
    "       'kcl_B_IND_MosaicsGrouping_Autumn Years',\n",
    "       'kcl_B_IND_MosaicsGrouping_Blue Sky Boomers',\n",
    "       'kcl_B_IND_MosaicsGrouping_Booming with Confidence',\n",
    "       'kcl_B_IND_MosaicsGrouping_Cultural Connections',\n",
    "       'kcl_B_IND_MosaicsGrouping_Economic Challenges',\n",
    "       'kcl_B_IND_MosaicsGrouping_Families in Motion',\n",
    "       'kcl_B_IND_MosaicsGrouping_Family Union',\n",
    "       'kcl_B_IND_MosaicsGrouping_Flourishing Families',\n",
    "       'kcl_B_IND_MosaicsGrouping_Golden Year Guardians',\n",
    "       'kcl_B_IND_MosaicsGrouping_Middle Class Melting Pot',\n",
    "       'kcl_B_IND_MosaicsGrouping_Pastoral Pride',\n",
    "       'kcl_B_IND_MosaicsGrouping_Power Elite',\n",
    "       'kcl_B_IND_MosaicsGrouping_Promising Families',\n",
    "       'kcl_B_IND_MosaicsGrouping_Significant Singles',\n",
    "       'kcl_B_IND_MosaicsGrouping_Singles and Starters',\n",
    "       'kcl_B_IND_MosaicsGrouping_Surburban Style',\n",
    "       'kcl_B_IND_MosaicsGrouping_Thriving Boomers',\n",
    "       'kcl_B_IND_MosaicsGrouping_Young City Solos',\n",
    "       'INS Client Flag']]"
   ]
  },
  {
   "cell_type": "code",
   "execution_count": null,
   "metadata": {},
   "outputs": [],
   "source": [
    "not_buyers = sub_df.loc[sub_df['INS Client Flag'] != 1]\n",
    "buyers = sub_df.loc[sub_df['INS Client Flag'] == 1]\n",
    "print (not_buyers['INS Client Flag'])"
   ]
  },
  {
   "cell_type": "code",
   "execution_count": null,
   "metadata": {},
   "outputs": [],
   "source": [
    "buyers.describe()"
   ]
  },
  {
   "cell_type": "code",
   "execution_count": null,
   "metadata": {},
   "outputs": [],
   "source": [
    "X1 = not_buyers.sample(578)"
   ]
  },
  {
   "cell_type": "code",
   "execution_count": null,
   "metadata": {},
   "outputs": [],
   "source": [
    "X1.shape"
   ]
  },
  {
   "cell_type": "code",
   "execution_count": null,
   "metadata": {},
   "outputs": [],
   "source": [
    "buyers.shape"
   ]
  },
  {
   "cell_type": "code",
   "execution_count": null,
   "metadata": {},
   "outputs": [],
   "source": [
    "d_df = pd.concat([buyers, X1])"
   ]
  },
  {
   "cell_type": "code",
   "execution_count": null,
   "metadata": {},
   "outputs": [],
   "source": [
    "d_df.shape"
   ]
  },
  {
   "cell_type": "code",
   "execution_count": null,
   "metadata": {},
   "outputs": [],
   "source": [
    "X = d_df [['kcl_B_IND_MosaicsGrouping_Aspirational Fusion',\n",
    "       'kcl_B_IND_MosaicsGrouping_Autumn Years',\n",
    "       'kcl_B_IND_MosaicsGrouping_Blue Sky Boomers',\n",
    "       'kcl_B_IND_MosaicsGrouping_Booming with Confidence',\n",
    "       'kcl_B_IND_MosaicsGrouping_Cultural Connections',\n",
    "       'kcl_B_IND_MosaicsGrouping_Economic Challenges',\n",
    "       #'kcl_B_IND_MosaicsGrouping_Families in Motion',\n",
    "       'kcl_B_IND_MosaicsGrouping_Family Union',\n",
    "       'kcl_B_IND_MosaicsGrouping_Flourishing Families',\n",
    "       'kcl_B_IND_MosaicsGrouping_Golden Year Guardians',\n",
    "       'kcl_B_IND_MosaicsGrouping_Middle Class Melting Pot',\n",
    "       #'kcl_B_IND_MosaicsGrouping_Pastoral Pride',\n",
    "       'kcl_B_IND_MosaicsGrouping_Power Elite',\n",
    "       'kcl_B_IND_MosaicsGrouping_Promising Families',\n",
    "       'kcl_B_IND_MosaicsGrouping_Significant Singles',\n",
    "       'kcl_B_IND_MosaicsGrouping_Singles and Starters',\n",
    "       'kcl_B_IND_MosaicsGrouping_Surburban Style',\n",
    "       'kcl_B_IND_MosaicsGrouping_Thriving Boomers',\n",
    "       'kcl_B_IND_MosaicsGrouping_Young City Solos']]\n",
    "\n"
   ]
  },
  {
   "cell_type": "code",
   "execution_count": null,
   "metadata": {},
   "outputs": [],
   "source": [
    "group_labels = ['Aspirational Fusion',\n",
    "       'Autumn Years',\n",
    "       'Blue Sky Boomers',\n",
    "       'Booming with Confidence',\n",
    "       'Cultural Connections',\n",
    "       'Economic Challenges',\n",
    "       #'Families in Motion',\n",
    "       'Family Union',\n",
    "       'Flourishing Families',\n",
    "       'Golden Year Guardians',\n",
    "       'Middle Class Melting Pot',\n",
    "       #'Pastoral Pride',\n",
    "       'Power Elite',\n",
    "       'Promising Families',\n",
    "       'Significant Singles',\n",
    "       'Singles and Starters',\n",
    "       'Surburban Style',\n",
    "       'Thriving Boomers',\n",
    "       'Young City Solos']"
   ]
  },
  {
   "cell_type": "code",
   "execution_count": null,
   "metadata": {},
   "outputs": [],
   "source": [
    "d_df.shape"
   ]
  },
  {
   "cell_type": "code",
   "execution_count": null,
   "metadata": {},
   "outputs": [],
   "source": [
    "d_df = d_df.dropna()\n",
    "d_df.shape"
   ]
  },
  {
   "cell_type": "code",
   "execution_count": null,
   "metadata": {},
   "outputs": [],
   "source": [
    "y = d_df['INS Client Flag']"
   ]
  },
  {
   "cell_type": "code",
   "execution_count": null,
   "metadata": {},
   "outputs": [],
   "source": []
  },
  {
   "cell_type": "code",
   "execution_count": null,
   "metadata": {},
   "outputs": [],
   "source": [
    "from sklearn.model_selection import train_test_split\n",
    "X_train, X_test, y_train, y_test = train_test_split(X,y)\n",
    "lgr.fit(X_train, y_train)\n",
    "knn.fit(X_train, y_train)\n"
   ]
  },
  {
   "cell_type": "code",
   "execution_count": null,
   "metadata": {},
   "outputs": [],
   "source": [
    "y_test.mean()"
   ]
  },
  {
   "cell_type": "code",
   "execution_count": null,
   "metadata": {},
   "outputs": [],
   "source": [
    "lgr.score(X_test, y_test)"
   ]
  },
  {
   "cell_type": "code",
   "execution_count": null,
   "metadata": {},
   "outputs": [],
   "source": [
    "knn.score(X_test, y_test)"
   ]
  },
  {
   "cell_type": "code",
   "execution_count": null,
   "metadata": {},
   "outputs": [],
   "source": [
    "y.value_counts()"
   ]
  },
  {
   "cell_type": "code",
   "execution_count": null,
   "metadata": {},
   "outputs": [],
   "source": [
    "coef_df = pd.DataFrame({'coefs':lgr.coef_[0], 'feature':X_test.columns})\n",
    "coef_df.feature = group_labels"
   ]
  },
  {
   "cell_type": "code",
   "execution_count": null,
   "metadata": {},
   "outputs": [],
   "source": [
    "plt.figure(figsize = (15,6))\n",
    "plt.bar(coef_df['feature'], coef_df['coefs'])\n",
    "plt.xlabel = group_labels\n",
    "plt.xticks(rotation =90)\n"
   ]
  },
  {
   "cell_type": "code",
   "execution_count": null,
   "metadata": {},
   "outputs": [],
   "source": [
    "# Boosting\n",
    "from sklearn.ensemble import GradientBoostingClassifier\n",
    "gbc = GradientBoostingClassifier()\n",
    "gbc.fit (X_train, y_train)"
   ]
  },
  {
   "cell_type": "code",
   "execution_count": null,
   "metadata": {},
   "outputs": [],
   "source": [
    "gbc.score(X_test, y_test)"
   ]
  },
  {
   "cell_type": "code",
   "execution_count": null,
   "metadata": {},
   "outputs": [],
   "source": []
  },
  {
   "cell_type": "code",
   "execution_count": null,
   "metadata": {},
   "outputs": [],
   "source": []
  },
  {
   "cell_type": "code",
   "execution_count": null,
   "metadata": {},
   "outputs": [],
   "source": []
  },
  {
   "cell_type": "code",
   "execution_count": null,
   "metadata": {},
   "outputs": [],
   "source": [
    "df.groupby('State - Grouped')['FSV Mortgage Flag'].mean()\n"
   ]
  },
  {
   "cell_type": "code",
   "execution_count": null,
   "metadata": {},
   "outputs": [],
   "source": [
    "df['Education'].value_counts()"
   ]
  },
  {
   "cell_type": "code",
   "execution_count": null,
   "metadata": {},
   "outputs": [],
   "source": [
    "df.groupby('Education')['Total Cost'].mean()\n",
    "\n"
   ]
  },
  {
   "cell_type": "code",
   "execution_count": null,
   "metadata": {},
   "outputs": [],
   "source": [
    "df.groupby('FSV Mortgage Flag')['Total Cost'].mean()"
   ]
  },
  {
   "cell_type": "code",
   "execution_count": null,
   "metadata": {},
   "outputs": [],
   "source": [
    "[i for i in df.columns if i.startswith(\"FSV\")]"
   ]
  },
  {
   "cell_type": "code",
   "execution_count": 2,
   "metadata": {},
   "outputs": [
    {
     "output_type": "stream",
     "name": "stdout",
     "text": "end of session 02\n"
    }
   ],
   "source": [
    "print(\"end of session 02\")"
   ]
  },
  {
   "cell_type": "code",
   "execution_count": 1,
   "metadata": {},
   "outputs": [
    {
     "output_type": "stream",
     "name": "stdout",
     "text": "Why no changes\n"
    }
   ],
   "source": [
    "print (\"Why no changes     \")"
   ]
  },
  {
   "cell_type": "code",
   "execution_count": null,
   "metadata": {},
   "outputs": [],
   "source": [
    "[i for i in df.columns if i.startswith(\"House\")]"
   ]
  },
  {
   "cell_type": "code",
   "execution_count": null,
   "metadata": {},
   "outputs": [],
   "source": [
    "df['Household Key'].value_counts()\n"
   ]
  },
  {
   "cell_type": "code",
   "execution_count": null,
   "metadata": {},
   "outputs": [],
   "source": [
    "df['Individual Key'].value_counts()"
   ]
  },
  {
   "cell_type": "code",
   "execution_count": null,
   "metadata": {},
   "outputs": [],
   "source": [
    "df.groupby ('Household Key')['Individual Key'].value_counts().describe()"
   ]
  },
  {
   "cell_type": "code",
   "execution_count": null,
   "metadata": {},
   "outputs": [],
   "source": []
  }
 ],
 "metadata": {
  "language_info": {
   "codemirror_mode": {
    "name": "ipython",
    "version": 3
   },
   "file_extension": ".py",
   "mimetype": "text/x-python",
   "name": "python",
   "nbconvert_exporter": "python",
   "pygments_lexer": "ipython3",
   "version": "3.7.6-final"
  },
  "orig_nbformat": 2,
  "kernelspec": {
   "name": "python3",
   "display_name": "Python 3"
  }
 },
 "nbformat": 4,
 "nbformat_minor": 2
}